{
  "nbformat": 4,
  "nbformat_minor": 0,
  "metadata": {
    "colab": {
      "name": "Copy of Untitled7.ipynb",
      "provenance": [],
      "authorship_tag": "ABX9TyMu5OEopIxYiI4VoYj/dPSb",
      "include_colab_link": true
    },
    "kernelspec": {
      "name": "python3",
      "display_name": "Python 3"
    },
    "language_info": {
      "name": "python"
    }
  },
  "cells": [
    {
      "cell_type": "markdown",
      "metadata": {
        "id": "view-in-github",
        "colab_type": "text"
      },
      "source": [
        "<a href=\"https://colab.research.google.com/github/afeeva86/Project1/blob/main/Copy_of_Untitled7.ipynb\" target=\"_parent\"><img src=\"https://colab.research.google.com/assets/colab-badge.svg\" alt=\"Open In Colab\"/></a>"
      ]
    },
    {
      "cell_type": "markdown",
      "source": [
        "\n",
        "**1.1 Import the necessary Python modules**"
      ],
      "metadata": {
        "id": "LxHrqcAtpNvv"
      }
    },
    {
      "cell_type": "code",
      "execution_count": 1,
      "metadata": {
        "id": "7olmkDP6pD5_"
      },
      "outputs": [],
      "source": [
        "# Load python modules\n",
        "\n",
        "import numpy as np\n",
        "import matplotlib.pyplot as plt\n",
        "import pandas as pd\n",
        "from sklearn import model_selection"
      ]
    },
    {
      "cell_type": "code",
      "source": [
        "from IPython.display import HTML\n",
        "def pretty_print_df(value_counts_):\n",
        "  \"Quick function to display value counts more nicely\"\n",
        "  display(HTML(pd.DataFrame(value_counts_).to_html()))"
      ],
      "metadata": {
        "id": "Xxgl68DkpYAZ"
      },
      "execution_count": 2,
      "outputs": []
    },
    {
      "cell_type": "markdown",
      "source": [
        "**1.2 Load Dataset**"
      ],
      "metadata": {
        "id": "XxzEP2jtpmji"
      }
    },
    {
      "cell_type": "code",
      "source": [
        "# Load dataset from local drive (for colab notebook)\n",
        "from google.colab import files\n",
        "import io\n",
        "\n",
        "uploaded = files.upload()    # Will prompt you to select file: remember to choose the right one!\n",
        "amazon_reviews = pd.read_csv(io.BytesIO(uploaded['processed_reviews_split_surnamesA_minimal.csv']))"
      ],
      "metadata": {
        "colab": {
          "resources": {
            "http://localhost:8080/nbextensions/google.colab/files.js": {
              "data": "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",
              "ok": true,
              "headers": [
                [
                  "content-type",
                  "application/javascript"
                ]
              ],
              "status": 200,
              "status_text": ""
            }
          },
          "base_uri": "https://localhost:8080/",
          "height": 73
        },
        "id": "IesMzH_sprNb",
        "outputId": "216f6f45-b8a0-456b-f01f-0c433da0b766"
      },
      "execution_count": 3,
      "outputs": [
        {
          "output_type": "display_data",
          "data": {
            "text/plain": [
              "<IPython.core.display.HTML object>"
            ],
            "text/html": [
              "\n",
              "     <input type=\"file\" id=\"files-c2535da0-92bd-4153-b9de-bb4c35ed0357\" name=\"files[]\" multiple disabled\n",
              "        style=\"border:none\" />\n",
              "     <output id=\"result-c2535da0-92bd-4153-b9de-bb4c35ed0357\">\n",
              "      Upload widget is only available when the cell has been executed in the\n",
              "      current browser session. Please rerun this cell to enable.\n",
              "      </output>\n",
              "      <script src=\"/nbextensions/google.colab/files.js\"></script> "
            ]
          },
          "metadata": {}
        },
        {
          "output_type": "stream",
          "name": "stdout",
          "text": [
            "Saving processed_reviews_split_surnamesA_minimal.csv to processed_reviews_split_surnamesA_minimal (1).csv\n"
          ]
        }
      ]
    },
    {
      "cell_type": "code",
      "source": [
        "# Training data\n",
        "# shape of input: \n",
        "# The number or rows is the number of data points\n",
        "# The number or columns is the number of features\n",
        "print(amazon_reviews.shape)"
      ],
      "metadata": {
        "colab": {
          "base_uri": "https://localhost:8080/"
        },
        "id": "Fu-a0eLqp0zK",
        "outputId": "0368816d-d8e7-48a7-d0ce-a3e6f6855d34"
      },
      "execution_count": 4,
      "outputs": [
        {
          "output_type": "stream",
          "name": "stdout",
          "text": [
            "(32918, 5)\n"
          ]
        }
      ]
    },
    {
      "cell_type": "code",
      "source": [
        "# list of column titles \n",
        "print(amazon_reviews.columns)"
      ],
      "metadata": {
        "colab": {
          "base_uri": "https://localhost:8080/"
        },
        "id": "fSYuVJovp7E3",
        "outputId": "7610a589-d568-4d33-becb-6aefafc28eb9"
      },
      "execution_count": 5,
      "outputs": [
        {
          "output_type": "stream",
          "name": "stdout",
          "text": [
            "Index(['review_id', 'text', 'verified', 'review_score', 'product_category'], dtype='object')\n"
          ]
        }
      ]
    },
    {
      "cell_type": "code",
      "source": [
        "# list of column (field) data types\n",
        "print(amazon_reviews.dtypes)"
      ],
      "metadata": {
        "colab": {
          "base_uri": "https://localhost:8080/"
        },
        "id": "EKTl3hIHAcoF",
        "outputId": "a08a3978-b39d-421e-d56b-d1ac0af1a427"
      },
      "execution_count": 6,
      "outputs": [
        {
          "output_type": "stream",
          "name": "stdout",
          "text": [
            "review_id            object\n",
            "text                 object\n",
            "verified             object\n",
            "review_score        float64\n",
            "product_category     object\n",
            "dtype: object\n"
          ]
        }
      ]
    },
    {
      "cell_type": "markdown",
      "source": [
        "**Take a peek at the Dataset**"
      ],
      "metadata": {
        "id": "Qb8f0uuOBCU9"
      }
    },
    {
      "cell_type": "markdown",
      "source": [
        "We will now have a look at what the data looks like and what fields it contains"
      ],
      "metadata": {
        "id": "yEahNGvMBNGW"
      }
    },
    {
      "cell_type": "code",
      "source": [
        "# you can show the first N rows in a dataframe with the function \"head\"\n",
        "amazon_reviews.head(10)"
      ],
      "metadata": {
        "colab": {
          "base_uri": "https://localhost:8080/",
          "height": 363
        },
        "id": "dWBAmeH9BZut",
        "outputId": "8dd4b55f-9e89-43a7-b7fb-7005f7ea0e68"
      },
      "execution_count": 7,
      "outputs": [
        {
          "output_type": "execute_result",
          "data": {
            "text/plain": [
              "               review_id                                               text  \\\n",
              "0  product_review_000000                                 guitars look new.    \n",
              "1  product_review_000001  I'd heard this game had crude humor, but man i...   \n",
              "2  product_review_000002  It's a decent game but nothing nearly as good ...   \n",
              "3  product_review_000003  This device worked exceptionally well for my X...   \n",
              "4  product_review_000004  great racing game, with a lot of cool cars to ...   \n",
              "5  product_review_000005  This is a great game for adults or those that ...   \n",
              "6  product_review_000006  Was about to send it back, was tuned too low, ...   \n",
              "7  product_review_000007  I play a lot of guitar.  Truthfully, I don't h...   \n",
              "8  product_review_000008  I built a custom cab for this speaker an am dr...   \n",
              "9  product_review_000009  Good pruduct it's pretty dicent but the microp...   \n",
              "\n",
              "  verified  review_score     product_category  \n",
              "0    False           5.0  musical_instruments  \n",
              "1     True           4.0          video_games  \n",
              "2     True           4.0          video_games  \n",
              "3    False           5.0          video_games  \n",
              "4     True           4.0          video_games  \n",
              "5    False           5.0          video_games  \n",
              "6     True           5.0  musical_instruments  \n",
              "7     True           5.0  musical_instruments  \n",
              "8    False           5.0  musical_instruments  \n",
              "9     True           4.0  musical_instruments  "
            ],
            "text/html": [
              "\n",
              "  <div id=\"df-19d9d48f-af41-4848-95fa-20c93cc84e2a\">\n",
              "    <div class=\"colab-df-container\">\n",
              "      <div>\n",
              "<style scoped>\n",
              "    .dataframe tbody tr th:only-of-type {\n",
              "        vertical-align: middle;\n",
              "    }\n",
              "\n",
              "    .dataframe tbody tr th {\n",
              "        vertical-align: top;\n",
              "    }\n",
              "\n",
              "    .dataframe thead th {\n",
              "        text-align: right;\n",
              "    }\n",
              "</style>\n",
              "<table border=\"1\" class=\"dataframe\">\n",
              "  <thead>\n",
              "    <tr style=\"text-align: right;\">\n",
              "      <th></th>\n",
              "      <th>review_id</th>\n",
              "      <th>text</th>\n",
              "      <th>verified</th>\n",
              "      <th>review_score</th>\n",
              "      <th>product_category</th>\n",
              "    </tr>\n",
              "  </thead>\n",
              "  <tbody>\n",
              "    <tr>\n",
              "      <th>0</th>\n",
              "      <td>product_review_000000</td>\n",
              "      <td>guitars look new.</td>\n",
              "      <td>False</td>\n",
              "      <td>5.0</td>\n",
              "      <td>musical_instruments</td>\n",
              "    </tr>\n",
              "    <tr>\n",
              "      <th>1</th>\n",
              "      <td>product_review_000001</td>\n",
              "      <td>I'd heard this game had crude humor, but man i...</td>\n",
              "      <td>True</td>\n",
              "      <td>4.0</td>\n",
              "      <td>video_games</td>\n",
              "    </tr>\n",
              "    <tr>\n",
              "      <th>2</th>\n",
              "      <td>product_review_000002</td>\n",
              "      <td>It's a decent game but nothing nearly as good ...</td>\n",
              "      <td>True</td>\n",
              "      <td>4.0</td>\n",
              "      <td>video_games</td>\n",
              "    </tr>\n",
              "    <tr>\n",
              "      <th>3</th>\n",
              "      <td>product_review_000003</td>\n",
              "      <td>This device worked exceptionally well for my X...</td>\n",
              "      <td>False</td>\n",
              "      <td>5.0</td>\n",
              "      <td>video_games</td>\n",
              "    </tr>\n",
              "    <tr>\n",
              "      <th>4</th>\n",
              "      <td>product_review_000004</td>\n",
              "      <td>great racing game, with a lot of cool cars to ...</td>\n",
              "      <td>True</td>\n",
              "      <td>4.0</td>\n",
              "      <td>video_games</td>\n",
              "    </tr>\n",
              "    <tr>\n",
              "      <th>5</th>\n",
              "      <td>product_review_000005</td>\n",
              "      <td>This is a great game for adults or those that ...</td>\n",
              "      <td>False</td>\n",
              "      <td>5.0</td>\n",
              "      <td>video_games</td>\n",
              "    </tr>\n",
              "    <tr>\n",
              "      <th>6</th>\n",
              "      <td>product_review_000006</td>\n",
              "      <td>Was about to send it back, was tuned too low, ...</td>\n",
              "      <td>True</td>\n",
              "      <td>5.0</td>\n",
              "      <td>musical_instruments</td>\n",
              "    </tr>\n",
              "    <tr>\n",
              "      <th>7</th>\n",
              "      <td>product_review_000007</td>\n",
              "      <td>I play a lot of guitar.  Truthfully, I don't h...</td>\n",
              "      <td>True</td>\n",
              "      <td>5.0</td>\n",
              "      <td>musical_instruments</td>\n",
              "    </tr>\n",
              "    <tr>\n",
              "      <th>8</th>\n",
              "      <td>product_review_000008</td>\n",
              "      <td>I built a custom cab for this speaker an am dr...</td>\n",
              "      <td>False</td>\n",
              "      <td>5.0</td>\n",
              "      <td>musical_instruments</td>\n",
              "    </tr>\n",
              "    <tr>\n",
              "      <th>9</th>\n",
              "      <td>product_review_000009</td>\n",
              "      <td>Good pruduct it's pretty dicent but the microp...</td>\n",
              "      <td>True</td>\n",
              "      <td>4.0</td>\n",
              "      <td>musical_instruments</td>\n",
              "    </tr>\n",
              "  </tbody>\n",
              "</table>\n",
              "</div>\n",
              "      <button class=\"colab-df-convert\" onclick=\"convertToInteractive('df-19d9d48f-af41-4848-95fa-20c93cc84e2a')\"\n",
              "              title=\"Convert this dataframe to an interactive table.\"\n",
              "              style=\"display:none;\">\n",
              "        \n",
              "  <svg xmlns=\"http://www.w3.org/2000/svg\" height=\"24px\"viewBox=\"0 0 24 24\"\n",
              "       width=\"24px\">\n",
              "    <path d=\"M0 0h24v24H0V0z\" fill=\"none\"/>\n",
              "    <path d=\"M18.56 5.44l.94 2.06.94-2.06 2.06-.94-2.06-.94-.94-2.06-.94 2.06-2.06.94zm-11 1L8.5 8.5l.94-2.06 2.06-.94-2.06-.94L8.5 2.5l-.94 2.06-2.06.94zm10 10l.94 2.06.94-2.06 2.06-.94-2.06-.94-.94-2.06-.94 2.06-2.06.94z\"/><path d=\"M17.41 7.96l-1.37-1.37c-.4-.4-.92-.59-1.43-.59-.52 0-1.04.2-1.43.59L10.3 9.45l-7.72 7.72c-.78.78-.78 2.05 0 2.83L4 21.41c.39.39.9.59 1.41.59.51 0 1.02-.2 1.41-.59l7.78-7.78 2.81-2.81c.8-.78.8-2.07 0-2.86zM5.41 20L4 18.59l7.72-7.72 1.47 1.35L5.41 20z\"/>\n",
              "  </svg>\n",
              "      </button>\n",
              "      \n",
              "  <style>\n",
              "    .colab-df-container {\n",
              "      display:flex;\n",
              "      flex-wrap:wrap;\n",
              "      gap: 12px;\n",
              "    }\n",
              "\n",
              "    .colab-df-convert {\n",
              "      background-color: #E8F0FE;\n",
              "      border: none;\n",
              "      border-radius: 50%;\n",
              "      cursor: pointer;\n",
              "      display: none;\n",
              "      fill: #1967D2;\n",
              "      height: 32px;\n",
              "      padding: 0 0 0 0;\n",
              "      width: 32px;\n",
              "    }\n",
              "\n",
              "    .colab-df-convert:hover {\n",
              "      background-color: #E2EBFA;\n",
              "      box-shadow: 0px 1px 2px rgba(60, 64, 67, 0.3), 0px 1px 3px 1px rgba(60, 64, 67, 0.15);\n",
              "      fill: #174EA6;\n",
              "    }\n",
              "\n",
              "    [theme=dark] .colab-df-convert {\n",
              "      background-color: #3B4455;\n",
              "      fill: #D2E3FC;\n",
              "    }\n",
              "\n",
              "    [theme=dark] .colab-df-convert:hover {\n",
              "      background-color: #434B5C;\n",
              "      box-shadow: 0px 1px 3px 1px rgba(0, 0, 0, 0.15);\n",
              "      filter: drop-shadow(0px 1px 2px rgba(0, 0, 0, 0.3));\n",
              "      fill: #FFFFFF;\n",
              "    }\n",
              "  </style>\n",
              "\n",
              "      <script>\n",
              "        const buttonEl =\n",
              "          document.querySelector('#df-19d9d48f-af41-4848-95fa-20c93cc84e2a button.colab-df-convert');\n",
              "        buttonEl.style.display =\n",
              "          google.colab.kernel.accessAllowed ? 'block' : 'none';\n",
              "\n",
              "        async function convertToInteractive(key) {\n",
              "          const element = document.querySelector('#df-19d9d48f-af41-4848-95fa-20c93cc84e2a');\n",
              "          const dataTable =\n",
              "            await google.colab.kernel.invokeFunction('convertToInteractive',\n",
              "                                                     [key], {});\n",
              "          if (!dataTable) return;\n",
              "\n",
              "          const docLinkHtml = 'Like what you see? Visit the ' +\n",
              "            '<a target=\"_blank\" href=https://colab.research.google.com/notebooks/data_table.ipynb>data table notebook</a>'\n",
              "            + ' to learn more about interactive tables.';\n",
              "          element.innerHTML = '';\n",
              "          dataTable['output_type'] = 'display_data';\n",
              "          await google.colab.output.renderOutput(dataTable, element);\n",
              "          const docLink = document.createElement('div');\n",
              "          docLink.innerHTML = docLinkHtml;\n",
              "          element.appendChild(docLink);\n",
              "        }\n",
              "      </script>\n",
              "    </div>\n",
              "  </div>\n",
              "  "
            ]
          },
          "metadata": {},
          "execution_count": 7
        }
      ]
    },
    {
      "cell_type": "code",
      "source": [
        "# you can also show a random subset of the data with the function \"sample\":\n",
        "amazon_reviews.sample(10)"
      ],
      "metadata": {
        "id": "Lm2fUo7ABgBq",
        "outputId": "4d6bd0e3-5650-41af-8d36-70757c5b6fe7",
        "colab": {
          "base_uri": "https://localhost:8080/",
          "height": 363
        }
      },
      "execution_count": 8,
      "outputs": [
        {
          "output_type": "execute_result",
          "data": {
            "text/plain": [
              "                   review_id  \\\n",
              "25140  product_review_025140   \n",
              "13475  product_review_013475   \n",
              "15219  product_review_015219   \n",
              "19838  product_review_019838   \n",
              "6425   product_review_006425   \n",
              "18718  product_review_018718   \n",
              "3299   product_review_003299   \n",
              "22599  product_review_022599   \n",
              "9506   product_review_009506   \n",
              "21354  product_review_021354   \n",
              "\n",
              "                                                    text verified  \\\n",
              "25140                   thank you it was a great movie.     False   \n",
              "13475                      Greatest racing game so far.      True   \n",
              "15219  My son likes this game. It's one of his favori...     True   \n",
              "19838  More of the same.  If you've played the previo...     True   \n",
              "6425   I don't know anything about Turbosound speaker...    False   \n",
              "18718  I waited a little while to buy this, mostly be...     True   \n",
              "3299   They are well made, have not tried theme out y...     True   \n",
              "22599  I aksed my 11 year old to review these earbuds...    False   \n",
              "9506   The game isn't out, no you don't own it, you d...    False   \n",
              "21354  Cute game with some old favorites and some odd...    False   \n",
              "\n",
              "       review_score     product_category  \n",
              "25140           5.0          video_games  \n",
              "13475           5.0          video_games  \n",
              "15219           4.0          video_games  \n",
              "19838           3.0          video_games  \n",
              "6425            5.0  musical_instruments  \n",
              "18718           5.0          video_games  \n",
              "3299           -1.0  musical_instruments  \n",
              "22599           3.0          video_games  \n",
              "9506            1.0          video_games  \n",
              "21354           4.0          video_games  "
            ],
            "text/html": [
              "\n",
              "  <div id=\"df-61022b1d-12a7-4b60-9ac5-28296e3185ae\">\n",
              "    <div class=\"colab-df-container\">\n",
              "      <div>\n",
              "<style scoped>\n",
              "    .dataframe tbody tr th:only-of-type {\n",
              "        vertical-align: middle;\n",
              "    }\n",
              "\n",
              "    .dataframe tbody tr th {\n",
              "        vertical-align: top;\n",
              "    }\n",
              "\n",
              "    .dataframe thead th {\n",
              "        text-align: right;\n",
              "    }\n",
              "</style>\n",
              "<table border=\"1\" class=\"dataframe\">\n",
              "  <thead>\n",
              "    <tr style=\"text-align: right;\">\n",
              "      <th></th>\n",
              "      <th>review_id</th>\n",
              "      <th>text</th>\n",
              "      <th>verified</th>\n",
              "      <th>review_score</th>\n",
              "      <th>product_category</th>\n",
              "    </tr>\n",
              "  </thead>\n",
              "  <tbody>\n",
              "    <tr>\n",
              "      <th>25140</th>\n",
              "      <td>product_review_025140</td>\n",
              "      <td>thank you it was a great movie.</td>\n",
              "      <td>False</td>\n",
              "      <td>5.0</td>\n",
              "      <td>video_games</td>\n",
              "    </tr>\n",
              "    <tr>\n",
              "      <th>13475</th>\n",
              "      <td>product_review_013475</td>\n",
              "      <td>Greatest racing game so far.</td>\n",
              "      <td>True</td>\n",
              "      <td>5.0</td>\n",
              "      <td>video_games</td>\n",
              "    </tr>\n",
              "    <tr>\n",
              "      <th>15219</th>\n",
              "      <td>product_review_015219</td>\n",
              "      <td>My son likes this game. It's one of his favori...</td>\n",
              "      <td>True</td>\n",
              "      <td>4.0</td>\n",
              "      <td>video_games</td>\n",
              "    </tr>\n",
              "    <tr>\n",
              "      <th>19838</th>\n",
              "      <td>product_review_019838</td>\n",
              "      <td>More of the same.  If you've played the previo...</td>\n",
              "      <td>True</td>\n",
              "      <td>3.0</td>\n",
              "      <td>video_games</td>\n",
              "    </tr>\n",
              "    <tr>\n",
              "      <th>6425</th>\n",
              "      <td>product_review_006425</td>\n",
              "      <td>I don't know anything about Turbosound speaker...</td>\n",
              "      <td>False</td>\n",
              "      <td>5.0</td>\n",
              "      <td>musical_instruments</td>\n",
              "    </tr>\n",
              "    <tr>\n",
              "      <th>18718</th>\n",
              "      <td>product_review_018718</td>\n",
              "      <td>I waited a little while to buy this, mostly be...</td>\n",
              "      <td>True</td>\n",
              "      <td>5.0</td>\n",
              "      <td>video_games</td>\n",
              "    </tr>\n",
              "    <tr>\n",
              "      <th>3299</th>\n",
              "      <td>product_review_003299</td>\n",
              "      <td>They are well made, have not tried theme out y...</td>\n",
              "      <td>True</td>\n",
              "      <td>-1.0</td>\n",
              "      <td>musical_instruments</td>\n",
              "    </tr>\n",
              "    <tr>\n",
              "      <th>22599</th>\n",
              "      <td>product_review_022599</td>\n",
              "      <td>I aksed my 11 year old to review these earbuds...</td>\n",
              "      <td>False</td>\n",
              "      <td>3.0</td>\n",
              "      <td>video_games</td>\n",
              "    </tr>\n",
              "    <tr>\n",
              "      <th>9506</th>\n",
              "      <td>product_review_009506</td>\n",
              "      <td>The game isn't out, no you don't own it, you d...</td>\n",
              "      <td>False</td>\n",
              "      <td>1.0</td>\n",
              "      <td>video_games</td>\n",
              "    </tr>\n",
              "    <tr>\n",
              "      <th>21354</th>\n",
              "      <td>product_review_021354</td>\n",
              "      <td>Cute game with some old favorites and some odd...</td>\n",
              "      <td>False</td>\n",
              "      <td>4.0</td>\n",
              "      <td>video_games</td>\n",
              "    </tr>\n",
              "  </tbody>\n",
              "</table>\n",
              "</div>\n",
              "      <button class=\"colab-df-convert\" onclick=\"convertToInteractive('df-61022b1d-12a7-4b60-9ac5-28296e3185ae')\"\n",
              "              title=\"Convert this dataframe to an interactive table.\"\n",
              "              style=\"display:none;\">\n",
              "        \n",
              "  <svg xmlns=\"http://www.w3.org/2000/svg\" height=\"24px\"viewBox=\"0 0 24 24\"\n",
              "       width=\"24px\">\n",
              "    <path d=\"M0 0h24v24H0V0z\" fill=\"none\"/>\n",
              "    <path d=\"M18.56 5.44l.94 2.06.94-2.06 2.06-.94-2.06-.94-.94-2.06-.94 2.06-2.06.94zm-11 1L8.5 8.5l.94-2.06 2.06-.94-2.06-.94L8.5 2.5l-.94 2.06-2.06.94zm10 10l.94 2.06.94-2.06 2.06-.94-2.06-.94-.94-2.06-.94 2.06-2.06.94z\"/><path d=\"M17.41 7.96l-1.37-1.37c-.4-.4-.92-.59-1.43-.59-.52 0-1.04.2-1.43.59L10.3 9.45l-7.72 7.72c-.78.78-.78 2.05 0 2.83L4 21.41c.39.39.9.59 1.41.59.51 0 1.02-.2 1.41-.59l7.78-7.78 2.81-2.81c.8-.78.8-2.07 0-2.86zM5.41 20L4 18.59l7.72-7.72 1.47 1.35L5.41 20z\"/>\n",
              "  </svg>\n",
              "      </button>\n",
              "      \n",
              "  <style>\n",
              "    .colab-df-container {\n",
              "      display:flex;\n",
              "      flex-wrap:wrap;\n",
              "      gap: 12px;\n",
              "    }\n",
              "\n",
              "    .colab-df-convert {\n",
              "      background-color: #E8F0FE;\n",
              "      border: none;\n",
              "      border-radius: 50%;\n",
              "      cursor: pointer;\n",
              "      display: none;\n",
              "      fill: #1967D2;\n",
              "      height: 32px;\n",
              "      padding: 0 0 0 0;\n",
              "      width: 32px;\n",
              "    }\n",
              "\n",
              "    .colab-df-convert:hover {\n",
              "      background-color: #E2EBFA;\n",
              "      box-shadow: 0px 1px 2px rgba(60, 64, 67, 0.3), 0px 1px 3px 1px rgba(60, 64, 67, 0.15);\n",
              "      fill: #174EA6;\n",
              "    }\n",
              "\n",
              "    [theme=dark] .colab-df-convert {\n",
              "      background-color: #3B4455;\n",
              "      fill: #D2E3FC;\n",
              "    }\n",
              "\n",
              "    [theme=dark] .colab-df-convert:hover {\n",
              "      background-color: #434B5C;\n",
              "      box-shadow: 0px 1px 3px 1px rgba(0, 0, 0, 0.15);\n",
              "      filter: drop-shadow(0px 1px 2px rgba(0, 0, 0, 0.3));\n",
              "      fill: #FFFFFF;\n",
              "    }\n",
              "  </style>\n",
              "\n",
              "      <script>\n",
              "        const buttonEl =\n",
              "          document.querySelector('#df-61022b1d-12a7-4b60-9ac5-28296e3185ae button.colab-df-convert');\n",
              "        buttonEl.style.display =\n",
              "          google.colab.kernel.accessAllowed ? 'block' : 'none';\n",
              "\n",
              "        async function convertToInteractive(key) {\n",
              "          const element = document.querySelector('#df-61022b1d-12a7-4b60-9ac5-28296e3185ae');\n",
              "          const dataTable =\n",
              "            await google.colab.kernel.invokeFunction('convertToInteractive',\n",
              "                                                     [key], {});\n",
              "          if (!dataTable) return;\n",
              "\n",
              "          const docLinkHtml = 'Like what you see? Visit the ' +\n",
              "            '<a target=\"_blank\" href=https://colab.research.google.com/notebooks/data_table.ipynb>data table notebook</a>'\n",
              "            + ' to learn more about interactive tables.';\n",
              "          element.innerHTML = '';\n",
              "          dataTable['output_type'] = 'display_data';\n",
              "          await google.colab.output.renderOutput(dataTable, element);\n",
              "          const docLink = document.createElement('div');\n",
              "          docLink.innerHTML = docLinkHtml;\n",
              "          element.appendChild(docLink);\n",
              "        }\n",
              "      </script>\n",
              "    </div>\n",
              "  </div>\n",
              "  "
            ]
          },
          "metadata": {},
          "execution_count": 8
        }
      ]
    },
    {
      "cell_type": "markdown",
      "source": [
        "**Data quality assessment and Exploratory Data Analysis**"
      ],
      "metadata": {
        "id": "mVZoqKmPCGI-"
      }
    },
    {
      "cell_type": "markdown",
      "source": [
        "We are going to add 2 columns to exclude some of the data as we will need to clean the data"
      ],
      "metadata": {
        "id": "lJC2QeVXq1NA"
      }
    },
    {
      "cell_type": "code",
      "source": [
        "# Summary statistics for numerical features\n",
        "amazon_reviews.describe()"
      ],
      "metadata": {
        "colab": {
          "base_uri": "https://localhost:8080/",
          "height": 300
        },
        "id": "Vg8nEKZpCLKv",
        "outputId": "8a0ae31b-f570-47b9-aab4-821703b09a77"
      },
      "execution_count": 9,
      "outputs": [
        {
          "output_type": "execute_result",
          "data": {
            "text/plain": [
              "       review_score\n",
              "count  32918.000000\n",
              "mean       4.088098\n",
              "std        1.434291\n",
              "min       -1.000000\n",
              "25%        4.000000\n",
              "50%        5.000000\n",
              "75%        5.000000\n",
              "max        5.000000"
            ],
            "text/html": [
              "\n",
              "  <div id=\"df-2e627205-7b3f-4e26-9312-7e91dc337337\">\n",
              "    <div class=\"colab-df-container\">\n",
              "      <div>\n",
              "<style scoped>\n",
              "    .dataframe tbody tr th:only-of-type {\n",
              "        vertical-align: middle;\n",
              "    }\n",
              "\n",
              "    .dataframe tbody tr th {\n",
              "        vertical-align: top;\n",
              "    }\n",
              "\n",
              "    .dataframe thead th {\n",
              "        text-align: right;\n",
              "    }\n",
              "</style>\n",
              "<table border=\"1\" class=\"dataframe\">\n",
              "  <thead>\n",
              "    <tr style=\"text-align: right;\">\n",
              "      <th></th>\n",
              "      <th>review_score</th>\n",
              "    </tr>\n",
              "  </thead>\n",
              "  <tbody>\n",
              "    <tr>\n",
              "      <th>count</th>\n",
              "      <td>32918.000000</td>\n",
              "    </tr>\n",
              "    <tr>\n",
              "      <th>mean</th>\n",
              "      <td>4.088098</td>\n",
              "    </tr>\n",
              "    <tr>\n",
              "      <th>std</th>\n",
              "      <td>1.434291</td>\n",
              "    </tr>\n",
              "    <tr>\n",
              "      <th>min</th>\n",
              "      <td>-1.000000</td>\n",
              "    </tr>\n",
              "    <tr>\n",
              "      <th>25%</th>\n",
              "      <td>4.000000</td>\n",
              "    </tr>\n",
              "    <tr>\n",
              "      <th>50%</th>\n",
              "      <td>5.000000</td>\n",
              "    </tr>\n",
              "    <tr>\n",
              "      <th>75%</th>\n",
              "      <td>5.000000</td>\n",
              "    </tr>\n",
              "    <tr>\n",
              "      <th>max</th>\n",
              "      <td>5.000000</td>\n",
              "    </tr>\n",
              "  </tbody>\n",
              "</table>\n",
              "</div>\n",
              "      <button class=\"colab-df-convert\" onclick=\"convertToInteractive('df-2e627205-7b3f-4e26-9312-7e91dc337337')\"\n",
              "              title=\"Convert this dataframe to an interactive table.\"\n",
              "              style=\"display:none;\">\n",
              "        \n",
              "  <svg xmlns=\"http://www.w3.org/2000/svg\" height=\"24px\"viewBox=\"0 0 24 24\"\n",
              "       width=\"24px\">\n",
              "    <path d=\"M0 0h24v24H0V0z\" fill=\"none\"/>\n",
              "    <path d=\"M18.56 5.44l.94 2.06.94-2.06 2.06-.94-2.06-.94-.94-2.06-.94 2.06-2.06.94zm-11 1L8.5 8.5l.94-2.06 2.06-.94-2.06-.94L8.5 2.5l-.94 2.06-2.06.94zm10 10l.94 2.06.94-2.06 2.06-.94-2.06-.94-.94-2.06-.94 2.06-2.06.94z\"/><path d=\"M17.41 7.96l-1.37-1.37c-.4-.4-.92-.59-1.43-.59-.52 0-1.04.2-1.43.59L10.3 9.45l-7.72 7.72c-.78.78-.78 2.05 0 2.83L4 21.41c.39.39.9.59 1.41.59.51 0 1.02-.2 1.41-.59l7.78-7.78 2.81-2.81c.8-.78.8-2.07 0-2.86zM5.41 20L4 18.59l7.72-7.72 1.47 1.35L5.41 20z\"/>\n",
              "  </svg>\n",
              "      </button>\n",
              "      \n",
              "  <style>\n",
              "    .colab-df-container {\n",
              "      display:flex;\n",
              "      flex-wrap:wrap;\n",
              "      gap: 12px;\n",
              "    }\n",
              "\n",
              "    .colab-df-convert {\n",
              "      background-color: #E8F0FE;\n",
              "      border: none;\n",
              "      border-radius: 50%;\n",
              "      cursor: pointer;\n",
              "      display: none;\n",
              "      fill: #1967D2;\n",
              "      height: 32px;\n",
              "      padding: 0 0 0 0;\n",
              "      width: 32px;\n",
              "    }\n",
              "\n",
              "    .colab-df-convert:hover {\n",
              "      background-color: #E2EBFA;\n",
              "      box-shadow: 0px 1px 2px rgba(60, 64, 67, 0.3), 0px 1px 3px 1px rgba(60, 64, 67, 0.15);\n",
              "      fill: #174EA6;\n",
              "    }\n",
              "\n",
              "    [theme=dark] .colab-df-convert {\n",
              "      background-color: #3B4455;\n",
              "      fill: #D2E3FC;\n",
              "    }\n",
              "\n",
              "    [theme=dark] .colab-df-convert:hover {\n",
              "      background-color: #434B5C;\n",
              "      box-shadow: 0px 1px 3px 1px rgba(0, 0, 0, 0.15);\n",
              "      filter: drop-shadow(0px 1px 2px rgba(0, 0, 0, 0.3));\n",
              "      fill: #FFFFFF;\n",
              "    }\n",
              "  </style>\n",
              "\n",
              "      <script>\n",
              "        const buttonEl =\n",
              "          document.querySelector('#df-2e627205-7b3f-4e26-9312-7e91dc337337 button.colab-df-convert');\n",
              "        buttonEl.style.display =\n",
              "          google.colab.kernel.accessAllowed ? 'block' : 'none';\n",
              "\n",
              "        async function convertToInteractive(key) {\n",
              "          const element = document.querySelector('#df-2e627205-7b3f-4e26-9312-7e91dc337337');\n",
              "          const dataTable =\n",
              "            await google.colab.kernel.invokeFunction('convertToInteractive',\n",
              "                                                     [key], {});\n",
              "          if (!dataTable) return;\n",
              "\n",
              "          const docLinkHtml = 'Like what you see? Visit the ' +\n",
              "            '<a target=\"_blank\" href=https://colab.research.google.com/notebooks/data_table.ipynb>data table notebook</a>'\n",
              "            + ' to learn more about interactive tables.';\n",
              "          element.innerHTML = '';\n",
              "          dataTable['output_type'] = 'display_data';\n",
              "          await google.colab.output.renderOutput(dataTable, element);\n",
              "          const docLink = document.createElement('div');\n",
              "          docLink.innerHTML = docLinkHtml;\n",
              "          element.appendChild(docLink);\n",
              "        }\n",
              "      </script>\n",
              "    </div>\n",
              "  </div>\n",
              "  "
            ]
          },
          "metadata": {},
          "execution_count": 9
        }
      ]
    },
    {
      "cell_type": "code",
      "source": [
        "# let's list all categorical features\n",
        "categorical_columns= ['verified', 'review_score', 'product_category']"
      ],
      "metadata": {
        "id": "PIrQIENCCS_D"
      },
      "execution_count": 10,
      "outputs": []
    },
    {
      "cell_type": "code",
      "source": [
        "# let's get the categories and their count for each feature\n",
        "for col in categorical_columns:\n",
        "  print(f\"Categories and number of occurrences for '{col}'\")\n",
        "  pretty_print_df(amazon_reviews[col].value_counts())\n",
        "  print()"
      ],
      "metadata": {
        "colab": {
          "base_uri": "https://localhost:8080/",
          "height": 532
        },
        "id": "_TIxqhbqCVrJ",
        "outputId": "9091d7a2-6c83-4965-cfa1-c0828884aede"
      },
      "execution_count": 11,
      "outputs": [
        {
          "output_type": "stream",
          "name": "stdout",
          "text": [
            "Categories and number of occurrences for 'verified'\n"
          ]
        },
        {
          "output_type": "display_data",
          "data": {
            "text/plain": [
              "<IPython.core.display.HTML object>"
            ],
            "text/html": [
              "<table border=\"1\" class=\"dataframe\">\n",
              "  <thead>\n",
              "    <tr style=\"text-align: right;\">\n",
              "      <th></th>\n",
              "      <th>verified</th>\n",
              "    </tr>\n",
              "  </thead>\n",
              "  <tbody>\n",
              "    <tr>\n",
              "      <th>True</th>\n",
              "      <td>23492</td>\n",
              "    </tr>\n",
              "    <tr>\n",
              "      <th>False</th>\n",
              "      <td>9321</td>\n",
              "    </tr>\n",
              "  </tbody>\n",
              "</table>"
            ]
          },
          "metadata": {}
        },
        {
          "output_type": "stream",
          "name": "stdout",
          "text": [
            "\n",
            "Categories and number of occurrences for 'review_score'\n"
          ]
        },
        {
          "output_type": "display_data",
          "data": {
            "text/plain": [
              "<IPython.core.display.HTML object>"
            ],
            "text/html": [
              "<table border=\"1\" class=\"dataframe\">\n",
              "  <thead>\n",
              "    <tr style=\"text-align: right;\">\n",
              "      <th></th>\n",
              "      <th>review_score</th>\n",
              "    </tr>\n",
              "  </thead>\n",
              "  <tbody>\n",
              "    <tr>\n",
              "      <th>5.0</th>\n",
              "      <td>19247</td>\n",
              "    </tr>\n",
              "    <tr>\n",
              "      <th>4.0</th>\n",
              "      <td>6211</td>\n",
              "    </tr>\n",
              "    <tr>\n",
              "      <th>3.0</th>\n",
              "      <td>3154</td>\n",
              "    </tr>\n",
              "    <tr>\n",
              "      <th>1.0</th>\n",
              "      <td>1860</td>\n",
              "    </tr>\n",
              "    <tr>\n",
              "      <th>2.0</th>\n",
              "      <td>1539</td>\n",
              "    </tr>\n",
              "    <tr>\n",
              "      <th>-1.0</th>\n",
              "      <td>907</td>\n",
              "    </tr>\n",
              "  </tbody>\n",
              "</table>"
            ]
          },
          "metadata": {}
        },
        {
          "output_type": "stream",
          "name": "stdout",
          "text": [
            "\n",
            "Categories and number of occurrences for 'product_category'\n"
          ]
        },
        {
          "output_type": "display_data",
          "data": {
            "text/plain": [
              "<IPython.core.display.HTML object>"
            ],
            "text/html": [
              "<table border=\"1\" class=\"dataframe\">\n",
              "  <thead>\n",
              "    <tr style=\"text-align: right;\">\n",
              "      <th></th>\n",
              "      <th>product_category</th>\n",
              "    </tr>\n",
              "  </thead>\n",
              "  <tbody>\n",
              "    <tr>\n",
              "      <th>video_games</th>\n",
              "      <td>21732</td>\n",
              "    </tr>\n",
              "    <tr>\n",
              "      <th>musical_instruments</th>\n",
              "      <td>10280</td>\n",
              "    </tr>\n",
              "  </tbody>\n",
              "</table>"
            ]
          },
          "metadata": {}
        },
        {
          "output_type": "stream",
          "name": "stdout",
          "text": [
            "\n"
          ]
        }
      ]
    },
    {
      "cell_type": "code",
      "source": [
        "dframe_train = amazon_reviews.copy\n",
        "dframe_train\n"
      ],
      "metadata": {
        "colab": {
          "base_uri": "https://localhost:8080/"
        },
        "id": "PJDeL04Eq0qf",
        "outputId": "14d09646-6e35-4b13-f672-9ef8ad8f0431"
      },
      "execution_count": 12,
      "outputs": [
        {
          "output_type": "execute_result",
          "data": {
            "text/plain": [
              "<bound method NDFrame.copy of                    review_id  \\\n",
              "0      product_review_000000   \n",
              "1      product_review_000001   \n",
              "2      product_review_000002   \n",
              "3      product_review_000003   \n",
              "4      product_review_000004   \n",
              "...                      ...   \n",
              "32913  product_review_032913   \n",
              "32914  product_review_032914   \n",
              "32915  product_review_032915   \n",
              "32916  product_review_032916   \n",
              "32917  product_review_032917   \n",
              "\n",
              "                                                    text verified  \\\n",
              "0                                     guitars look new.     False   \n",
              "1      I'd heard this game had crude humor, but man i...     True   \n",
              "2      It's a decent game but nothing nearly as good ...     True   \n",
              "3      This device worked exceptionally well for my X...    False   \n",
              "4      great racing game, with a lot of cool cars to ...     True   \n",
              "...                                                  ...      ...   \n",
              "32913  OVERALL: This game is a must-buy by all standa...    False   \n",
              "32914  I must say that I have all but given up on Son...     True   \n",
              "32915  After considering various options for my 1976 ...     True   \n",
              "32916  We have had this for 1 day. But the charger it...     True   \n",
              "32917  Easy to work with and sounds good.. Good price...     True   \n",
              "\n",
              "       review_score     product_category  \n",
              "0               5.0  musical_instruments  \n",
              "1               4.0          video_games  \n",
              "2               4.0          video_games  \n",
              "3               5.0          video_games  \n",
              "4               4.0          video_games  \n",
              "...             ...                  ...  \n",
              "32913           5.0          video_games  \n",
              "32914           4.0          video_games  \n",
              "32915           5.0  musical_instruments  \n",
              "32916           4.0          video_games  \n",
              "32917           4.0  musical_instruments  \n",
              "\n",
              "[32918 rows x 5 columns]>"
            ]
          },
          "metadata": {},
          "execution_count": 12
        }
      ]
    },
    {
      "cell_type": "markdown",
      "source": [
        "As we can see, some of the headings have been changed, so the code has to be edited to have the right columns and to make it look neater."
      ],
      "metadata": {
        "id": "Xk0kP9CLCzzC"
      }
    },
    {
      "cell_type": "code",
      "source": [
        "dframe_train = pd.DataFrame(amazon_reviews, columns=['review_id','text','verified','review_score','product_category'])\n",
        "dframe_train['review_id'] = amazon_reviews['review_id']\n",
        "dframe_train['text'] = amazon_reviews['text']\n",
        "dframe_train['verified'] = amazon_reviews['verified']\n",
        "dframe_train['review_score'] = amazon_reviews['review_score']\n",
        "dframe_train['product_category'] = amazon_reviews['product_category']\n",
        "dframe_train"
      ],
      "metadata": {
        "colab": {
          "base_uri": "https://localhost:8080/",
          "height": 424
        },
        "id": "TXqTkLhLDAlN",
        "outputId": "7b40259e-6e7d-45bd-dfb5-d7f8b3535e16"
      },
      "execution_count": 13,
      "outputs": [
        {
          "output_type": "execute_result",
          "data": {
            "text/plain": [
              "                   review_id  \\\n",
              "0      product_review_000000   \n",
              "1      product_review_000001   \n",
              "2      product_review_000002   \n",
              "3      product_review_000003   \n",
              "4      product_review_000004   \n",
              "...                      ...   \n",
              "32913  product_review_032913   \n",
              "32914  product_review_032914   \n",
              "32915  product_review_032915   \n",
              "32916  product_review_032916   \n",
              "32917  product_review_032917   \n",
              "\n",
              "                                                    text verified  \\\n",
              "0                                     guitars look new.     False   \n",
              "1      I'd heard this game had crude humor, but man i...     True   \n",
              "2      It's a decent game but nothing nearly as good ...     True   \n",
              "3      This device worked exceptionally well for my X...    False   \n",
              "4      great racing game, with a lot of cool cars to ...     True   \n",
              "...                                                  ...      ...   \n",
              "32913  OVERALL: This game is a must-buy by all standa...    False   \n",
              "32914  I must say that I have all but given up on Son...     True   \n",
              "32915  After considering various options for my 1976 ...     True   \n",
              "32916  We have had this for 1 day. But the charger it...     True   \n",
              "32917  Easy to work with and sounds good.. Good price...     True   \n",
              "\n",
              "       review_score     product_category  \n",
              "0               5.0  musical_instruments  \n",
              "1               4.0          video_games  \n",
              "2               4.0          video_games  \n",
              "3               5.0          video_games  \n",
              "4               4.0          video_games  \n",
              "...             ...                  ...  \n",
              "32913           5.0          video_games  \n",
              "32914           4.0          video_games  \n",
              "32915           5.0  musical_instruments  \n",
              "32916           4.0          video_games  \n",
              "32917           4.0  musical_instruments  \n",
              "\n",
              "[32918 rows x 5 columns]"
            ],
            "text/html": [
              "\n",
              "  <div id=\"df-449a2dfc-62c2-472e-b698-04109681dd4e\">\n",
              "    <div class=\"colab-df-container\">\n",
              "      <div>\n",
              "<style scoped>\n",
              "    .dataframe tbody tr th:only-of-type {\n",
              "        vertical-align: middle;\n",
              "    }\n",
              "\n",
              "    .dataframe tbody tr th {\n",
              "        vertical-align: top;\n",
              "    }\n",
              "\n",
              "    .dataframe thead th {\n",
              "        text-align: right;\n",
              "    }\n",
              "</style>\n",
              "<table border=\"1\" class=\"dataframe\">\n",
              "  <thead>\n",
              "    <tr style=\"text-align: right;\">\n",
              "      <th></th>\n",
              "      <th>review_id</th>\n",
              "      <th>text</th>\n",
              "      <th>verified</th>\n",
              "      <th>review_score</th>\n",
              "      <th>product_category</th>\n",
              "    </tr>\n",
              "  </thead>\n",
              "  <tbody>\n",
              "    <tr>\n",
              "      <th>0</th>\n",
              "      <td>product_review_000000</td>\n",
              "      <td>guitars look new.</td>\n",
              "      <td>False</td>\n",
              "      <td>5.0</td>\n",
              "      <td>musical_instruments</td>\n",
              "    </tr>\n",
              "    <tr>\n",
              "      <th>1</th>\n",
              "      <td>product_review_000001</td>\n",
              "      <td>I'd heard this game had crude humor, but man i...</td>\n",
              "      <td>True</td>\n",
              "      <td>4.0</td>\n",
              "      <td>video_games</td>\n",
              "    </tr>\n",
              "    <tr>\n",
              "      <th>2</th>\n",
              "      <td>product_review_000002</td>\n",
              "      <td>It's a decent game but nothing nearly as good ...</td>\n",
              "      <td>True</td>\n",
              "      <td>4.0</td>\n",
              "      <td>video_games</td>\n",
              "    </tr>\n",
              "    <tr>\n",
              "      <th>3</th>\n",
              "      <td>product_review_000003</td>\n",
              "      <td>This device worked exceptionally well for my X...</td>\n",
              "      <td>False</td>\n",
              "      <td>5.0</td>\n",
              "      <td>video_games</td>\n",
              "    </tr>\n",
              "    <tr>\n",
              "      <th>4</th>\n",
              "      <td>product_review_000004</td>\n",
              "      <td>great racing game, with a lot of cool cars to ...</td>\n",
              "      <td>True</td>\n",
              "      <td>4.0</td>\n",
              "      <td>video_games</td>\n",
              "    </tr>\n",
              "    <tr>\n",
              "      <th>...</th>\n",
              "      <td>...</td>\n",
              "      <td>...</td>\n",
              "      <td>...</td>\n",
              "      <td>...</td>\n",
              "      <td>...</td>\n",
              "    </tr>\n",
              "    <tr>\n",
              "      <th>32913</th>\n",
              "      <td>product_review_032913</td>\n",
              "      <td>OVERALL: This game is a must-buy by all standa...</td>\n",
              "      <td>False</td>\n",
              "      <td>5.0</td>\n",
              "      <td>video_games</td>\n",
              "    </tr>\n",
              "    <tr>\n",
              "      <th>32914</th>\n",
              "      <td>product_review_032914</td>\n",
              "      <td>I must say that I have all but given up on Son...</td>\n",
              "      <td>True</td>\n",
              "      <td>4.0</td>\n",
              "      <td>video_games</td>\n",
              "    </tr>\n",
              "    <tr>\n",
              "      <th>32915</th>\n",
              "      <td>product_review_032915</td>\n",
              "      <td>After considering various options for my 1976 ...</td>\n",
              "      <td>True</td>\n",
              "      <td>5.0</td>\n",
              "      <td>musical_instruments</td>\n",
              "    </tr>\n",
              "    <tr>\n",
              "      <th>32916</th>\n",
              "      <td>product_review_032916</td>\n",
              "      <td>We have had this for 1 day. But the charger it...</td>\n",
              "      <td>True</td>\n",
              "      <td>4.0</td>\n",
              "      <td>video_games</td>\n",
              "    </tr>\n",
              "    <tr>\n",
              "      <th>32917</th>\n",
              "      <td>product_review_032917</td>\n",
              "      <td>Easy to work with and sounds good.. Good price...</td>\n",
              "      <td>True</td>\n",
              "      <td>4.0</td>\n",
              "      <td>musical_instruments</td>\n",
              "    </tr>\n",
              "  </tbody>\n",
              "</table>\n",
              "<p>32918 rows × 5 columns</p>\n",
              "</div>\n",
              "      <button class=\"colab-df-convert\" onclick=\"convertToInteractive('df-449a2dfc-62c2-472e-b698-04109681dd4e')\"\n",
              "              title=\"Convert this dataframe to an interactive table.\"\n",
              "              style=\"display:none;\">\n",
              "        \n",
              "  <svg xmlns=\"http://www.w3.org/2000/svg\" height=\"24px\"viewBox=\"0 0 24 24\"\n",
              "       width=\"24px\">\n",
              "    <path d=\"M0 0h24v24H0V0z\" fill=\"none\"/>\n",
              "    <path d=\"M18.56 5.44l.94 2.06.94-2.06 2.06-.94-2.06-.94-.94-2.06-.94 2.06-2.06.94zm-11 1L8.5 8.5l.94-2.06 2.06-.94-2.06-.94L8.5 2.5l-.94 2.06-2.06.94zm10 10l.94 2.06.94-2.06 2.06-.94-2.06-.94-.94-2.06-.94 2.06-2.06.94z\"/><path d=\"M17.41 7.96l-1.37-1.37c-.4-.4-.92-.59-1.43-.59-.52 0-1.04.2-1.43.59L10.3 9.45l-7.72 7.72c-.78.78-.78 2.05 0 2.83L4 21.41c.39.39.9.59 1.41.59.51 0 1.02-.2 1.41-.59l7.78-7.78 2.81-2.81c.8-.78.8-2.07 0-2.86zM5.41 20L4 18.59l7.72-7.72 1.47 1.35L5.41 20z\"/>\n",
              "  </svg>\n",
              "      </button>\n",
              "      \n",
              "  <style>\n",
              "    .colab-df-container {\n",
              "      display:flex;\n",
              "      flex-wrap:wrap;\n",
              "      gap: 12px;\n",
              "    }\n",
              "\n",
              "    .colab-df-convert {\n",
              "      background-color: #E8F0FE;\n",
              "      border: none;\n",
              "      border-radius: 50%;\n",
              "      cursor: pointer;\n",
              "      display: none;\n",
              "      fill: #1967D2;\n",
              "      height: 32px;\n",
              "      padding: 0 0 0 0;\n",
              "      width: 32px;\n",
              "    }\n",
              "\n",
              "    .colab-df-convert:hover {\n",
              "      background-color: #E2EBFA;\n",
              "      box-shadow: 0px 1px 2px rgba(60, 64, 67, 0.3), 0px 1px 3px 1px rgba(60, 64, 67, 0.15);\n",
              "      fill: #174EA6;\n",
              "    }\n",
              "\n",
              "    [theme=dark] .colab-df-convert {\n",
              "      background-color: #3B4455;\n",
              "      fill: #D2E3FC;\n",
              "    }\n",
              "\n",
              "    [theme=dark] .colab-df-convert:hover {\n",
              "      background-color: #434B5C;\n",
              "      box-shadow: 0px 1px 3px 1px rgba(0, 0, 0, 0.15);\n",
              "      filter: drop-shadow(0px 1px 2px rgba(0, 0, 0, 0.3));\n",
              "      fill: #FFFFFF;\n",
              "    }\n",
              "  </style>\n",
              "\n",
              "      <script>\n",
              "        const buttonEl =\n",
              "          document.querySelector('#df-449a2dfc-62c2-472e-b698-04109681dd4e button.colab-df-convert');\n",
              "        buttonEl.style.display =\n",
              "          google.colab.kernel.accessAllowed ? 'block' : 'none';\n",
              "\n",
              "        async function convertToInteractive(key) {\n",
              "          const element = document.querySelector('#df-449a2dfc-62c2-472e-b698-04109681dd4e');\n",
              "          const dataTable =\n",
              "            await google.colab.kernel.invokeFunction('convertToInteractive',\n",
              "                                                     [key], {});\n",
              "          if (!dataTable) return;\n",
              "\n",
              "          const docLinkHtml = 'Like what you see? Visit the ' +\n",
              "            '<a target=\"_blank\" href=https://colab.research.google.com/notebooks/data_table.ipynb>data table notebook</a>'\n",
              "            + ' to learn more about interactive tables.';\n",
              "          element.innerHTML = '';\n",
              "          dataTable['output_type'] = 'display_data';\n",
              "          await google.colab.output.renderOutput(dataTable, element);\n",
              "          const docLink = document.createElement('div');\n",
              "          docLink.innerHTML = docLinkHtml;\n",
              "          element.appendChild(docLink);\n",
              "        }\n",
              "      </script>\n",
              "    </div>\n",
              "  </div>\n",
              "  "
            ]
          },
          "metadata": {},
          "execution_count": 13
        }
      ]
    },
    {
      "cell_type": "markdown",
      "source": [
        "The task has asked us to predict the\n",
        "following attributes:\n",
        "• The number of stars associated with the review (on a scale of 1 to 5).\n",
        "• Whether a product is from the category “Video Games” (“video_games”) or “Musical\n",
        "Instrument” (“musical_instrument”)\n",
        "\n",
        "So we shall be focusing on these 2 categories and their distributions"
      ],
      "metadata": {
        "id": "kgNSsg82pXn9"
      }
    },
    {
      "cell_type": "code",
      "source": [
        "import seaborn as sns\n",
        "import matplotlib.pyplot as plt"
      ],
      "metadata": {
        "id": "qg45Z_NUttAH"
      },
      "execution_count": 14,
      "outputs": []
    },
    {
      "cell_type": "code",
      "source": [
        "x=dframe_train['review_score'].value_counts()\n",
        "print(x)\n",
        "sns.barplot(x.index,x, color='green')\n"
      ],
      "metadata": {
        "colab": {
          "base_uri": "https://localhost:8080/",
          "height": 461
        },
        "id": "1HMA8QqPt9YH",
        "outputId": "e3fa5ef2-a8b8-4d22-e390-32acdc7be189"
      },
      "execution_count": 15,
      "outputs": [
        {
          "output_type": "stream",
          "name": "stdout",
          "text": [
            " 5.0    19247\n",
            " 4.0     6211\n",
            " 3.0     3154\n",
            " 1.0     1860\n",
            " 2.0     1539\n",
            "-1.0      907\n",
            "Name: review_score, dtype: int64\n"
          ]
        },
        {
          "output_type": "stream",
          "name": "stderr",
          "text": [
            "/usr/local/lib/python3.7/dist-packages/seaborn/_decorators.py:43: FutureWarning: Pass the following variables as keyword args: x, y. From version 0.12, the only valid positional argument will be `data`, and passing other arguments without an explicit keyword will result in an error or misinterpretation.\n",
            "  FutureWarning\n"
          ]
        },
        {
          "output_type": "execute_result",
          "data": {
            "text/plain": [
              "<matplotlib.axes._subplots.AxesSubplot at 0x7fe1fc8e0350>"
            ]
          },
          "metadata": {},
          "execution_count": 15
        },
        {
          "output_type": "display_data",
          "data": {
            "text/plain": [
              "<Figure size 432x288 with 1 Axes>"
            ],
            "image/png": "[encoded data removed]"
          },
          "metadata": {
            "needs_background": "light"
          }
        }
      ]
    },
    {
      "cell_type": "code",
      "source": [
        "# Summary statistics for numerical features which is our review score\n",
        "dframe_train.describe()"
      ],
      "metadata": {
        "colab": {
          "base_uri": "https://localhost:8080/",
          "height": 300
        },
        "id": "Y65KyOCAvfZn",
        "outputId": "54179bfd-14bb-4660-e934-f780256b428a"
      },
      "execution_count": 16,
      "outputs": [
        {
          "output_type": "execute_result",
          "data": {
            "text/plain": [
              "       review_score\n",
              "count  32918.000000\n",
              "mean       4.088098\n",
              "std        1.434291\n",
              "min       -1.000000\n",
              "25%        4.000000\n",
              "50%        5.000000\n",
              "75%        5.000000\n",
              "max        5.000000"
            ],
            "text/html": [
              "\n",
              "  <div id=\"df-2d8e466e-31cf-4264-86dc-f5bfadb37ec3\">\n",
              "    <div class=\"colab-df-container\">\n",
              "      <div>\n",
              "<style scoped>\n",
              "    .dataframe tbody tr th:only-of-type {\n",
              "        vertical-align: middle;\n",
              "    }\n",
              "\n",
              "    .dataframe tbody tr th {\n",
              "        vertical-align: top;\n",
              "    }\n",
              "\n",
              "    .dataframe thead th {\n",
              "        text-align: right;\n",
              "    }\n",
              "</style>\n",
              "<table border=\"1\" class=\"dataframe\">\n",
              "  <thead>\n",
              "    <tr style=\"text-align: right;\">\n",
              "      <th></th>\n",
              "      <th>review_score</th>\n",
              "    </tr>\n",
              "  </thead>\n",
              "  <tbody>\n",
              "    <tr>\n",
              "      <th>count</th>\n",
              "      <td>32918.000000</td>\n",
              "    </tr>\n",
              "    <tr>\n",
              "      <th>mean</th>\n",
              "      <td>4.088098</td>\n",
              "    </tr>\n",
              "    <tr>\n",
              "      <th>std</th>\n",
              "      <td>1.434291</td>\n",
              "    </tr>\n",
              "    <tr>\n",
              "      <th>min</th>\n",
              "      <td>-1.000000</td>\n",
              "    </tr>\n",
              "    <tr>\n",
              "      <th>25%</th>\n",
              "      <td>4.000000</td>\n",
              "    </tr>\n",
              "    <tr>\n",
              "      <th>50%</th>\n",
              "      <td>5.000000</td>\n",
              "    </tr>\n",
              "    <tr>\n",
              "      <th>75%</th>\n",
              "      <td>5.000000</td>\n",
              "    </tr>\n",
              "    <tr>\n",
              "      <th>max</th>\n",
              "      <td>5.000000</td>\n",
              "    </tr>\n",
              "  </tbody>\n",
              "</table>\n",
              "</div>\n",
              "      <button class=\"colab-df-convert\" onclick=\"convertToInteractive('df-2d8e466e-31cf-4264-86dc-f5bfadb37ec3')\"\n",
              "              title=\"Convert this dataframe to an interactive table.\"\n",
              "              style=\"display:none;\">\n",
              "        \n",
              "  <svg xmlns=\"http://www.w3.org/2000/svg\" height=\"24px\"viewBox=\"0 0 24 24\"\n",
              "       width=\"24px\">\n",
              "    <path d=\"M0 0h24v24H0V0z\" fill=\"none\"/>\n",
              "    <path d=\"M18.56 5.44l.94 2.06.94-2.06 2.06-.94-2.06-.94-.94-2.06-.94 2.06-2.06.94zm-11 1L8.5 8.5l.94-2.06 2.06-.94-2.06-.94L8.5 2.5l-.94 2.06-2.06.94zm10 10l.94 2.06.94-2.06 2.06-.94-2.06-.94-.94-2.06-.94 2.06-2.06.94z\"/><path d=\"M17.41 7.96l-1.37-1.37c-.4-.4-.92-.59-1.43-.59-.52 0-1.04.2-1.43.59L10.3 9.45l-7.72 7.72c-.78.78-.78 2.05 0 2.83L4 21.41c.39.39.9.59 1.41.59.51 0 1.02-.2 1.41-.59l7.78-7.78 2.81-2.81c.8-.78.8-2.07 0-2.86zM5.41 20L4 18.59l7.72-7.72 1.47 1.35L5.41 20z\"/>\n",
              "  </svg>\n",
              "      </button>\n",
              "      \n",
              "  <style>\n",
              "    .colab-df-container {\n",
              "      display:flex;\n",
              "      flex-wrap:wrap;\n",
              "      gap: 12px;\n",
              "    }\n",
              "\n",
              "    .colab-df-convert {\n",
              "      background-color: #E8F0FE;\n",
              "      border: none;\n",
              "      border-radius: 50%;\n",
              "      cursor: pointer;\n",
              "      display: none;\n",
              "      fill: #1967D2;\n",
              "      height: 32px;\n",
              "      padding: 0 0 0 0;\n",
              "      width: 32px;\n",
              "    }\n",
              "\n",
              "    .colab-df-convert:hover {\n",
              "      background-color: #E2EBFA;\n",
              "      box-shadow: 0px 1px 2px rgba(60, 64, 67, 0.3), 0px 1px 3px 1px rgba(60, 64, 67, 0.15);\n",
              "      fill: #174EA6;\n",
              "    }\n",
              "\n",
              "    [theme=dark] .colab-df-convert {\n",
              "      background-color: #3B4455;\n",
              "      fill: #D2E3FC;\n",
              "    }\n",
              "\n",
              "    [theme=dark] .colab-df-convert:hover {\n",
              "      background-color: #434B5C;\n",
              "      box-shadow: 0px 1px 3px 1px rgba(0, 0, 0, 0.15);\n",
              "      filter: drop-shadow(0px 1px 2px rgba(0, 0, 0, 0.3));\n",
              "      fill: #FFFFFF;\n",
              "    }\n",
              "  </style>\n",
              "\n",
              "      <script>\n",
              "        const buttonEl =\n",
              "          document.querySelector('#df-2d8e466e-31cf-4264-86dc-f5bfadb37ec3 button.colab-df-convert');\n",
              "        buttonEl.style.display =\n",
              "          google.colab.kernel.accessAllowed ? 'block' : 'none';\n",
              "\n",
              "        async function convertToInteractive(key) {\n",
              "          const element = document.querySelector('#df-2d8e466e-31cf-4264-86dc-f5bfadb37ec3');\n",
              "          const dataTable =\n",
              "            await google.colab.kernel.invokeFunction('convertToInteractive',\n",
              "                                                     [key], {});\n",
              "          if (!dataTable) return;\n",
              "\n",
              "          const docLinkHtml = 'Like what you see? Visit the ' +\n",
              "            '<a target=\"_blank\" href=https://colab.research.google.com/notebooks/data_table.ipynb>data table notebook</a>'\n",
              "            + ' to learn more about interactive tables.';\n",
              "          element.innerHTML = '';\n",
              "          dataTable['output_type'] = 'display_data';\n",
              "          await google.colab.output.renderOutput(dataTable, element);\n",
              "          const docLink = document.createElement('div');\n",
              "          docLink.innerHTML = docLinkHtml;\n",
              "          element.appendChild(docLink);\n",
              "        }\n",
              "      </script>\n",
              "    </div>\n",
              "  </div>\n",
              "  "
            ]
          },
          "metadata": {},
          "execution_count": 16
        }
      ]
    },
    {
      "cell_type": "code",
      "source": [
        "x=dframe_train['product_category'].value_counts()\n",
        "print(x)\n",
        "sns.barplot(x.index,x, color='red')"
      ],
      "metadata": {
        "colab": {
          "base_uri": "https://localhost:8080/",
          "height": 390
        },
        "id": "TqSiXhaAtj2Q",
        "outputId": "26c0191a-eb5a-44e0-ab16-4727696592e7"
      },
      "execution_count": 17,
      "outputs": [
        {
          "output_type": "stream",
          "name": "stdout",
          "text": [
            "video_games            21732\n",
            "musical_instruments    10280\n",
            "Name: product_category, dtype: int64\n"
          ]
        },
        {
          "output_type": "stream",
          "name": "stderr",
          "text": [
            "/usr/local/lib/python3.7/dist-packages/seaborn/_decorators.py:43: FutureWarning: Pass the following variables as keyword args: x, y. From version 0.12, the only valid positional argument will be `data`, and passing other arguments without an explicit keyword will result in an error or misinterpretation.\n",
            "  FutureWarning\n"
          ]
        },
        {
          "output_type": "execute_result",
          "data": {
            "text/plain": [
              "<matplotlib.axes._subplots.AxesSubplot at 0x7fe1fc7cea50>"
            ]
          },
          "metadata": {},
          "execution_count": 17
        },
        {
          "output_type": "display_data",
          "data": {
            "text/plain": [
              "<Figure size 432x288 with 1 Axes>"
            ],
            "image/png": "[encoded data removed]"
          },
          "metadata": {
            "needs_background": "light"
          }
        }
      ]
    },
    {
      "cell_type": "markdown",
      "source": [
        "We can see from the data that we have a negative review score of -1 which we have to get rid of as we can not have a negative review score lower than 1."
      ],
      "metadata": {
        "id": "mKxZLlmOv8CX"
      }
    },
    {
      "cell_type": "markdown",
      "source": [
        "We also have to first check how many missing values we have in each category"
      ],
      "metadata": {
        "id": "OWQ80Th1wRC0"
      }
    },
    {
      "cell_type": "code",
      "source": [
        "# number of missing values for review score, product category and text review\n",
        "print ('The amount of missing values that review_id has is:')\n",
        "print(dframe_train[\"review_id\"].isnull().sum())\n",
        "\n",
        "print ('The amount of missing values that text has is:')\n",
        "print(dframe_train[\"text\"].isnull().sum())\n",
        "\n",
        "print ('The amount of missing values that verified has is:')\n",
        "print(dframe_train[\"verified\"].isnull().sum())\n",
        "\n",
        "print ('The amount of missing values that review_score has is:')\n",
        "print(dframe_train[\"review_score\"].isnull().sum())\n",
        "\n",
        "print ('The amount of missing values that product_category has is:')\n",
        "print(dframe_train[\"product_category\"].isnull().sum())\n",
        "\n",
        "\n",
        "\n"
      ],
      "metadata": {
        "colab": {
          "base_uri": "https://localhost:8080/"
        },
        "id": "xnPJoEdow2I_",
        "outputId": "efae831a-80b0-43ec-a9b2-61e3835018d0"
      },
      "execution_count": 18,
      "outputs": [
        {
          "output_type": "stream",
          "name": "stdout",
          "text": [
            "The amount of missing values that review_id has is:\n",
            "0\n",
            "The amount of missing values that text has is:\n",
            "12\n",
            "The amount of missing values that verified has is:\n",
            "105\n",
            "The amount of missing values that review_score has is:\n",
            "0\n",
            "The amount of missing values that product_category has is:\n",
            "906\n"
          ]
        }
      ]
    },
    {
      "cell_type": "markdown",
      "source": [
        "We can also check for duplicate values"
      ],
      "metadata": {
        "id": "Ohlv70bUz4JY"
      }
    },
    {
      "cell_type": "code",
      "source": [
        "# Select duplicate rows except first occurrence based on all columns\n",
        "duplicateRowsDF = dframe_train[dframe_train.duplicated()]"
      ],
      "metadata": {
        "id": "C8AqA2_nz-gc"
      },
      "execution_count": 19,
      "outputs": []
    },
    {
      "cell_type": "code",
      "source": [
        "print(duplicateRowsDF)"
      ],
      "metadata": {
        "colab": {
          "base_uri": "https://localhost:8080/"
        },
        "id": "n4C91JJm0Be8",
        "outputId": "8de1ae4b-33ca-47c9-fe00-ef1fcd84d52f"
      },
      "execution_count": 20,
      "outputs": [
        {
          "output_type": "stream",
          "name": "stdout",
          "text": [
            "Empty DataFrame\n",
            "Columns: [review_id, text, verified, review_score, product_category]\n",
            "Index: []\n"
          ]
        }
      ]
    },
    {
      "cell_type": "code",
      "source": [
        "print(\"Duplicate Rows except first occurrence based on all columns are :\") \n",
        "print(duplicateRowsDF)"
      ],
      "metadata": {
        "colab": {
          "base_uri": "https://localhost:8080/"
        },
        "id": "rMT8zFGt0JDx",
        "outputId": "73fc0a57-3e49-498b-9583-5cd8de876db4"
      },
      "execution_count": 21,
      "outputs": [
        {
          "output_type": "stream",
          "name": "stdout",
          "text": [
            "Duplicate Rows except first occurrence based on all columns are :\n",
            "Empty DataFrame\n",
            "Columns: [review_id, text, verified, review_score, product_category]\n",
            "Index: []\n"
          ]
        }
      ]
    },
    {
      "cell_type": "markdown",
      "source": [
        "We can see that there are no duplicates "
      ],
      "metadata": {
        "id": "y3bUgEuR0S6-"
      }
    },
    {
      "cell_type": "markdown",
      "source": [
        "So now we can work on getting rid of our missing values"
      ],
      "metadata": {
        "id": "bpbS0RvZH-eh"
      }
    },
    {
      "cell_type": "markdown",
      "source": [
        "For CATEGORICAL features, we want to use the Pandas function value_counts() to obtain information about how many categories there are and how many instances of each."
      ],
      "metadata": {
        "id": "LCzZsbOz1_aI"
      }
    },
    {
      "cell_type": "code",
      "source": [
        "# let's list all categorical features\n",
        "categorical_columns= ['verified', 'review_score', 'product_category']"
      ],
      "metadata": {
        "id": "3ESM8yf4185f"
      },
      "execution_count": 22,
      "outputs": []
    },
    {
      "cell_type": "markdown",
      "source": [
        "We previously changed the missing values from the review score to NaN. We will be replacing the missing values with the mean. "
      ],
      "metadata": {
        "id": "A1oAjyuF3bCH"
      }
    },
    {
      "cell_type": "markdown",
      "source": [
        "We will first replace our negative loan amounts with NaN"
      ],
      "metadata": {
        "id": "Y5CATl1AJBRj"
      }
    },
    {
      "cell_type": "code",
      "source": [
        "# replace negative loan amount values with NaN \n",
        "# (we use np.nan because that's how the other missing values are represented in this dataset)\n",
        "dframe_train.loc[amazon_reviews.review_score<0,'review_score'] = np.nan"
      ],
      "metadata": {
        "id": "jQguTo0eJIXk"
      },
      "execution_count": 23,
      "outputs": []
    },
    {
      "cell_type": "markdown",
      "source": [
        "No we will replace the values of NaN with mean values"
      ],
      "metadata": {
        "id": "qnftto02JhJX"
      }
    },
    {
      "cell_type": "code",
      "source": [
        "# handling missing data\n",
        "from sklearn.impute import SimpleImputer \n",
        "\n",
        "dframe_train_no_nans =  dframe_train.copy()\n",
        "\n",
        "# 1. Imputer\n",
        "imptr_num = SimpleImputer(missing_values = np.nan, strategy = 'mean')  \n",
        "\n",
        "\n",
        "# 2. Fit the imputer object to the feature matrix (only for numeric features)\n",
        "numerical_columns = ['review_score']\n",
        "imptr_num = imptr_num.fit(dframe_train_no_nans[numerical_columns])\n",
        "\n",
        "# 3. Call Transform to replace missing data in train_dataset (on specific columns) by the mean of the column to which that missing data belongs to\n",
        "dframe_train_no_nans[numerical_columns] = \\\n",
        "  imptr_num.transform(amazon_reviews[numerical_columns]) \n",
        "\n",
        "# note column ApplicantIncome in the first row --> before it was a missing value!\n",
        "dframe_train_no_nans"
      ],
      "metadata": {
        "colab": {
          "base_uri": "https://localhost:8080/",
          "height": 424
        },
        "id": "dCFC9jXa2KEt",
        "outputId": "91e87196-ef3a-4d33-d9ef-cfc1e05e34ec"
      },
      "execution_count": 24,
      "outputs": [
        {
          "output_type": "execute_result",
          "data": {
            "text/plain": [
              "                   review_id  \\\n",
              "0      product_review_000000   \n",
              "1      product_review_000001   \n",
              "2      product_review_000002   \n",
              "3      product_review_000003   \n",
              "4      product_review_000004   \n",
              "...                      ...   \n",
              "32913  product_review_032913   \n",
              "32914  product_review_032914   \n",
              "32915  product_review_032915   \n",
              "32916  product_review_032916   \n",
              "32917  product_review_032917   \n",
              "\n",
              "                                                    text verified  \\\n",
              "0                                     guitars look new.     False   \n",
              "1      I'd heard this game had crude humor, but man i...     True   \n",
              "2      It's a decent game but nothing nearly as good ...     True   \n",
              "3      This device worked exceptionally well for my X...    False   \n",
              "4      great racing game, with a lot of cool cars to ...     True   \n",
              "...                                                  ...      ...   \n",
              "32913  OVERALL: This game is a must-buy by all standa...    False   \n",
              "32914  I must say that I have all but given up on Son...     True   \n",
              "32915  After considering various options for my 1976 ...     True   \n",
              "32916  We have had this for 1 day. But the charger it...     True   \n",
              "32917  Easy to work with and sounds good.. Good price...     True   \n",
              "\n",
              "       review_score     product_category  \n",
              "0               5.0  musical_instruments  \n",
              "1               4.0          video_games  \n",
              "2               4.0          video_games  \n",
              "3               5.0          video_games  \n",
              "4               4.0          video_games  \n",
              "...             ...                  ...  \n",
              "32913           5.0          video_games  \n",
              "32914           4.0          video_games  \n",
              "32915           5.0  musical_instruments  \n",
              "32916           4.0          video_games  \n",
              "32917           4.0  musical_instruments  \n",
              "\n",
              "[32918 rows x 5 columns]"
            ],
            "text/html": [
              "\n",
              "  <div id=\"df-eb76c473-8913-42b6-820d-0da07f141f83\">\n",
              "    <div class=\"colab-df-container\">\n",
              "      <div>\n",
              "<style scoped>\n",
              "    .dataframe tbody tr th:only-of-type {\n",
              "        vertical-align: middle;\n",
              "    }\n",
              "\n",
              "    .dataframe tbody tr th {\n",
              "        vertical-align: top;\n",
              "    }\n",
              "\n",
              "    .dataframe thead th {\n",
              "        text-align: right;\n",
              "    }\n",
              "</style>\n",
              "<table border=\"1\" class=\"dataframe\">\n",
              "  <thead>\n",
              "    <tr style=\"text-align: right;\">\n",
              "      <th></th>\n",
              "      <th>review_id</th>\n",
              "      <th>text</th>\n",
              "      <th>verified</th>\n",
              "      <th>review_score</th>\n",
              "      <th>product_category</th>\n",
              "    </tr>\n",
              "  </thead>\n",
              "  <tbody>\n",
              "    <tr>\n",
              "      <th>0</th>\n",
              "      <td>product_review_000000</td>\n",
              "      <td>guitars look new.</td>\n",
              "      <td>False</td>\n",
              "      <td>5.0</td>\n",
              "      <td>musical_instruments</td>\n",
              "    </tr>\n",
              "    <tr>\n",
              "      <th>1</th>\n",
              "      <td>product_review_000001</td>\n",
              "      <td>I'd heard this game had crude humor, but man i...</td>\n",
              "      <td>True</td>\n",
              "      <td>4.0</td>\n",
              "      <td>video_games</td>\n",
              "    </tr>\n",
              "    <tr>\n",
              "      <th>2</th>\n",
              "      <td>product_review_000002</td>\n",
              "      <td>It's a decent game but nothing nearly as good ...</td>\n",
              "      <td>True</td>\n",
              "      <td>4.0</td>\n",
              "      <td>video_games</td>\n",
              "    </tr>\n",
              "    <tr>\n",
              "      <th>3</th>\n",
              "      <td>product_review_000003</td>\n",
              "      <td>This device worked exceptionally well for my X...</td>\n",
              "      <td>False</td>\n",
              "      <td>5.0</td>\n",
              "      <td>video_games</td>\n",
              "    </tr>\n",
              "    <tr>\n",
              "      <th>4</th>\n",
              "      <td>product_review_000004</td>\n",
              "      <td>great racing game, with a lot of cool cars to ...</td>\n",
              "      <td>True</td>\n",
              "      <td>4.0</td>\n",
              "      <td>video_games</td>\n",
              "    </tr>\n",
              "    <tr>\n",
              "      <th>...</th>\n",
              "      <td>...</td>\n",
              "      <td>...</td>\n",
              "      <td>...</td>\n",
              "      <td>...</td>\n",
              "      <td>...</td>\n",
              "    </tr>\n",
              "    <tr>\n",
              "      <th>32913</th>\n",
              "      <td>product_review_032913</td>\n",
              "      <td>OVERALL: This game is a must-buy by all standa...</td>\n",
              "      <td>False</td>\n",
              "      <td>5.0</td>\n",
              "      <td>video_games</td>\n",
              "    </tr>\n",
              "    <tr>\n",
              "      <th>32914</th>\n",
              "      <td>product_review_032914</td>\n",
              "      <td>I must say that I have all but given up on Son...</td>\n",
              "      <td>True</td>\n",
              "      <td>4.0</td>\n",
              "      <td>video_games</td>\n",
              "    </tr>\n",
              "    <tr>\n",
              "      <th>32915</th>\n",
              "      <td>product_review_032915</td>\n",
              "      <td>After considering various options for my 1976 ...</td>\n",
              "      <td>True</td>\n",
              "      <td>5.0</td>\n",
              "      <td>musical_instruments</td>\n",
              "    </tr>\n",
              "    <tr>\n",
              "      <th>32916</th>\n",
              "      <td>product_review_032916</td>\n",
              "      <td>We have had this for 1 day. But the charger it...</td>\n",
              "      <td>True</td>\n",
              "      <td>4.0</td>\n",
              "      <td>video_games</td>\n",
              "    </tr>\n",
              "    <tr>\n",
              "      <th>32917</th>\n",
              "      <td>product_review_032917</td>\n",
              "      <td>Easy to work with and sounds good.. Good price...</td>\n",
              "      <td>True</td>\n",
              "      <td>4.0</td>\n",
              "      <td>musical_instruments</td>\n",
              "    </tr>\n",
              "  </tbody>\n",
              "</table>\n",
              "<p>32918 rows × 5 columns</p>\n",
              "</div>\n",
              "      <button class=\"colab-df-convert\" onclick=\"convertToInteractive('df-eb76c473-8913-42b6-820d-0da07f141f83')\"\n",
              "              title=\"Convert this dataframe to an interactive table.\"\n",
              "              style=\"display:none;\">\n",
              "        \n",
              "  <svg xmlns=\"http://www.w3.org/2000/svg\" height=\"24px\"viewBox=\"0 0 24 24\"\n",
              "       width=\"24px\">\n",
              "    <path d=\"M0 0h24v24H0V0z\" fill=\"none\"/>\n",
              "    <path d=\"M18.56 5.44l.94 2.06.94-2.06 2.06-.94-2.06-.94-.94-2.06-.94 2.06-2.06.94zm-11 1L8.5 8.5l.94-2.06 2.06-.94-2.06-.94L8.5 2.5l-.94 2.06-2.06.94zm10 10l.94 2.06.94-2.06 2.06-.94-2.06-.94-.94-2.06-.94 2.06-2.06.94z\"/><path d=\"M17.41 7.96l-1.37-1.37c-.4-.4-.92-.59-1.43-.59-.52 0-1.04.2-1.43.59L10.3 9.45l-7.72 7.72c-.78.78-.78 2.05 0 2.83L4 21.41c.39.39.9.59 1.41.59.51 0 1.02-.2 1.41-.59l7.78-7.78 2.81-2.81c.8-.78.8-2.07 0-2.86zM5.41 20L4 18.59l7.72-7.72 1.47 1.35L5.41 20z\"/>\n",
              "  </svg>\n",
              "      </button>\n",
              "      \n",
              "  <style>\n",
              "    .colab-df-container {\n",
              "      display:flex;\n",
              "      flex-wrap:wrap;\n",
              "      gap: 12px;\n",
              "    }\n",
              "\n",
              "    .colab-df-convert {\n",
              "      background-color: #E8F0FE;\n",
              "      border: none;\n",
              "      border-radius: 50%;\n",
              "      cursor: pointer;\n",
              "      display: none;\n",
              "      fill: #1967D2;\n",
              "      height: 32px;\n",
              "      padding: 0 0 0 0;\n",
              "      width: 32px;\n",
              "    }\n",
              "\n",
              "    .colab-df-convert:hover {\n",
              "      background-color: #E2EBFA;\n",
              "      box-shadow: 0px 1px 2px rgba(60, 64, 67, 0.3), 0px 1px 3px 1px rgba(60, 64, 67, 0.15);\n",
              "      fill: #174EA6;\n",
              "    }\n",
              "\n",
              "    [theme=dark] .colab-df-convert {\n",
              "      background-color: #3B4455;\n",
              "      fill: #D2E3FC;\n",
              "    }\n",
              "\n",
              "    [theme=dark] .colab-df-convert:hover {\n",
              "      background-color: #434B5C;\n",
              "      box-shadow: 0px 1px 3px 1px rgba(0, 0, 0, 0.15);\n",
              "      filter: drop-shadow(0px 1px 2px rgba(0, 0, 0, 0.3));\n",
              "      fill: #FFFFFF;\n",
              "    }\n",
              "  </style>\n",
              "\n",
              "      <script>\n",
              "        const buttonEl =\n",
              "          document.querySelector('#df-eb76c473-8913-42b6-820d-0da07f141f83 button.colab-df-convert');\n",
              "        buttonEl.style.display =\n",
              "          google.colab.kernel.accessAllowed ? 'block' : 'none';\n",
              "\n",
              "        async function convertToInteractive(key) {\n",
              "          const element = document.querySelector('#df-eb76c473-8913-42b6-820d-0da07f141f83');\n",
              "          const dataTable =\n",
              "            await google.colab.kernel.invokeFunction('convertToInteractive',\n",
              "                                                     [key], {});\n",
              "          if (!dataTable) return;\n",
              "\n",
              "          const docLinkHtml = 'Like what you see? Visit the ' +\n",
              "            '<a target=\"_blank\" href=https://colab.research.google.com/notebooks/data_table.ipynb>data table notebook</a>'\n",
              "            + ' to learn more about interactive tables.';\n",
              "          element.innerHTML = '';\n",
              "          dataTable['output_type'] = 'display_data';\n",
              "          await google.colab.output.renderOutput(dataTable, element);\n",
              "          const docLink = document.createElement('div');\n",
              "          docLink.innerHTML = docLinkHtml;\n",
              "          element.appendChild(docLink);\n",
              "        }\n",
              "      </script>\n",
              "    </div>\n",
              "  </div>\n",
              "  "
            ]
          },
          "metadata": {},
          "execution_count": 24
        }
      ]
    },
    {
      "cell_type": "markdown",
      "source": [
        "We then need to replace our missing values from our categorical. We will be using the mode which will replace missing values with the most common values."
      ],
      "metadata": {
        "id": "lB2WEQQf4bII"
      }
    },
    {
      "cell_type": "code",
      "source": [
        "# 1. Imputer\n",
        "imptr_cat = SimpleImputer(missing_values = np.nan, strategy = 'most_frequent')  \n",
        "\n",
        "# 2. Fit the imputer object to the feature matrix (only for categorical features)\n",
        "imptr_cat = imptr_cat.fit(dframe_train_no_nans[categorical_columns])\n",
        "\n",
        "# 3. Call Transform to replace missing data in train_dataset (on specific columns) by the mean of the column to which that missing data belongs to\n",
        "dframe_train_no_nans[categorical_columns] = imptr_cat.transform(dframe_train_no_nans[categorical_columns]) "
      ],
      "metadata": {
        "id": "uLSaACu15IVV"
      },
      "execution_count": 25,
      "outputs": []
    },
    {
      "cell_type": "markdown",
      "source": [
        "The data is unbalanced as we could see from our previous bar charts, so I would need to either oversample the data or undersample the data. I have chosen to oversample to balance the data."
      ],
      "metadata": {
        "id": "LXiQPGDy54wX"
      }
    },
    {
      "cell_type": "code",
      "source": [
        "# Class count\n",
        "count_class_0, count_class_1 = dframe_train_no_nans.product_category.value_counts()\n",
        "\n",
        "# Divide by class\n",
        "df_class_0 = dframe_train_no_nans[dframe_train_no_nans['product_category'] == 'musical_instruments']\n",
        "df_class_1 = dframe_train_no_nans[dframe_train_no_nans['product_category'] == 'video_games']\n",
        "\n",
        "df_class_1_over = df_class_1.sample(count_class_0, replace=True)\n",
        "df_test_over = pd.concat([df_class_0, df_class_1_over], axis=0)\n",
        "\n",
        "print('Random over-sampling:')\n",
        "print(df_test_over.product_category.value_counts())\n",
        "\n",
        "df_test_over.product_category.value_counts().plot(kind='pie', title='Count (product_category)');"
      ],
      "metadata": {
        "colab": {
          "base_uri": "https://localhost:8080/",
          "height": 333
        },
        "id": "kM8PspZK67wr",
        "outputId": "ed928b35-4c83-43c5-e7f6-1f467a32257d"
      },
      "execution_count": 26,
      "outputs": [
        {
          "output_type": "stream",
          "name": "stdout",
          "text": [
            "Random over-sampling:\n",
            "video_games            22638\n",
            "musical_instruments    10280\n",
            "Name: product_category, dtype: int64\n"
          ]
        },
        {
          "output_type": "display_data",
          "data": {
            "text/plain": [
              "<Figure size 432x288 with 1 Axes>"
            ],
            "image/png": "[encoded data removed]"
          },
          "metadata": {}
        }
      ]
    },
    {
      "cell_type": "markdown",
      "source": [
        "We can now go ahead and begin processing our text"
      ],
      "metadata": {
        "id": "OBaQ0BZgbgVS"
      }
    },
    {
      "cell_type": "markdown",
      "source": [
        "These are the modules that we will need"
      ],
      "metadata": {
        "id": "RqpxUnvcQI-r"
      }
    },
    {
      "cell_type": "code",
      "source": [
        "import re, string\n",
        "import nltk\n",
        "from nltk.tokenize import word_tokenize\n",
        "from nltk.corpus import stopwords\n",
        "from nltk.tokenize import word_tokenize\n",
        "from nltk.stem import SnowballStemmer\n",
        "from nltk.corpus import wordnet\n",
        "from nltk.stem import WordNetLemmatizer"
      ],
      "metadata": {
        "id": "Vb3NH0y3bv1U"
      },
      "execution_count": 27,
      "outputs": []
    },
    {
      "cell_type": "code",
      "source": [
        "#Loading models and datasets\n",
        "!pip install ml-datasets"
      ],
      "metadata": {
        "colab": {
          "base_uri": "https://localhost:8080/"
        },
        "id": "9x2djymmSEtL",
        "outputId": "a2121820-61ed-4521-c291-918221876326"
      },
      "execution_count": 28,
      "outputs": [
        {
          "output_type": "stream",
          "name": "stdout",
          "text": [
            "Requirement already satisfied: ml-datasets in /usr/local/lib/python3.7/dist-packages (0.2.0)\n",
            "Requirement already satisfied: srsly<3.0.0,>=1.0.1 in /usr/local/lib/python3.7/dist-packages (from ml-datasets) (2.4.3)\n",
            "Requirement already satisfied: tqdm<5.0.0,>=4.10.0 in /usr/local/lib/python3.7/dist-packages (from ml-datasets) (4.64.0)\n",
            "Requirement already satisfied: numpy>=1.7.0 in /usr/local/lib/python3.7/dist-packages (from ml-datasets) (1.21.6)\n",
            "Requirement already satisfied: catalogue<3.0.0,>=0.2.0 in /usr/local/lib/python3.7/dist-packages (from ml-datasets) (2.0.7)\n",
            "Requirement already satisfied: zipp>=0.5 in /usr/local/lib/python3.7/dist-packages (from catalogue<3.0.0,>=0.2.0->ml-datasets) (3.8.0)\n",
            "Requirement already satisfied: typing-extensions>=3.6.4 in /usr/local/lib/python3.7/dist-packages (from catalogue<3.0.0,>=0.2.0->ml-datasets) (3.10.0.2)\n"
          ]
        }
      ]
    },
    {
      "cell_type": "code",
      "source": [
        "# We will use a package called spacy, which gets updated frequently\n",
        "!pip install --upgrade spacy"
      ],
      "metadata": {
        "colab": {
          "base_uri": "https://localhost:8080/"
        },
        "id": "gNJUP4gfSHT7",
        "outputId": "0ba142c9-6ea0-4b2e-a74e-a05005c71dca"
      },
      "execution_count": 29,
      "outputs": [
        {
          "output_type": "stream",
          "name": "stdout",
          "text": [
            "Requirement already satisfied: spacy in /usr/local/lib/python3.7/dist-packages (3.3.0)\n",
            "Requirement already satisfied: jinja2 in /usr/local/lib/python3.7/dist-packages (from spacy) (2.11.3)\n",
            "Requirement already satisfied: preshed<3.1.0,>=3.0.2 in /usr/local/lib/python3.7/dist-packages (from spacy) (3.0.6)\n",
            "Requirement already satisfied: tqdm<5.0.0,>=4.38.0 in /usr/local/lib/python3.7/dist-packages (from spacy) (4.64.0)\n",
            "Requirement already satisfied: blis<0.8.0,>=0.4.0 in /usr/local/lib/python3.7/dist-packages (from spacy) (0.4.1)\n",
            "Requirement already satisfied: typer<0.5.0,>=0.3.0 in /usr/local/lib/python3.7/dist-packages (from spacy) (0.4.1)\n",
            "Requirement already satisfied: thinc<8.1.0,>=8.0.14 in /usr/local/lib/python3.7/dist-packages (from spacy) (8.0.15)\n",
            "Requirement already satisfied: packaging>=20.0 in /usr/local/lib/python3.7/dist-packages (from spacy) (21.3)\n",
            "Requirement already satisfied: numpy>=1.15.0 in /usr/local/lib/python3.7/dist-packages (from spacy) (1.21.6)\n",
            "Requirement already satisfied: murmurhash<1.1.0,>=0.28.0 in /usr/local/lib/python3.7/dist-packages (from spacy) (1.0.7)\n",
            "Requirement already satisfied: cymem<2.1.0,>=2.0.2 in /usr/local/lib/python3.7/dist-packages (from spacy) (2.0.6)\n",
            "Requirement already satisfied: typing-extensions<4.0.0.0,>=3.7.4 in /usr/local/lib/python3.7/dist-packages (from spacy) (3.10.0.2)\n",
            "Requirement already satisfied: setuptools in /usr/local/lib/python3.7/dist-packages (from spacy) (57.4.0)\n",
            "Requirement already satisfied: pathy>=0.3.5 in /usr/local/lib/python3.7/dist-packages (from spacy) (0.6.1)\n",
            "Requirement already satisfied: srsly<3.0.0,>=2.4.3 in /usr/local/lib/python3.7/dist-packages (from spacy) (2.4.3)\n",
            "Requirement already satisfied: catalogue<2.1.0,>=2.0.6 in /usr/local/lib/python3.7/dist-packages (from spacy) (2.0.7)\n",
            "Requirement already satisfied: langcodes<4.0.0,>=3.2.0 in /usr/local/lib/python3.7/dist-packages (from spacy) (3.3.0)\n",
            "Requirement already satisfied: spacy-legacy<3.1.0,>=3.0.9 in /usr/local/lib/python3.7/dist-packages (from spacy) (3.0.9)\n",
            "Requirement already satisfied: requests<3.0.0,>=2.13.0 in /usr/local/lib/python3.7/dist-packages (from spacy) (2.23.0)\n",
            "Requirement already satisfied: wasabi<1.1.0,>=0.9.1 in /usr/local/lib/python3.7/dist-packages (from spacy) (0.9.1)\n",
            "Requirement already satisfied: spacy-loggers<2.0.0,>=1.0.0 in /usr/local/lib/python3.7/dist-packages (from spacy) (1.0.2)\n",
            "Requirement already satisfied: pydantic!=1.8,!=1.8.1,<1.9.0,>=1.7.4 in /usr/local/lib/python3.7/dist-packages (from spacy) (1.8.2)\n",
            "Requirement already satisfied: zipp>=0.5 in /usr/local/lib/python3.7/dist-packages (from catalogue<2.1.0,>=2.0.6->spacy) (3.8.0)\n",
            "Requirement already satisfied: pyparsing!=3.0.5,>=2.0.2 in /usr/local/lib/python3.7/dist-packages (from packaging>=20.0->spacy) (3.0.8)\n",
            "Requirement already satisfied: smart-open<6.0.0,>=5.0.0 in /usr/local/lib/python3.7/dist-packages (from pathy>=0.3.5->spacy) (5.2.1)\n",
            "Requirement already satisfied: certifi>=2017.4.17 in /usr/local/lib/python3.7/dist-packages (from requests<3.0.0,>=2.13.0->spacy) (2021.10.8)\n",
            "Requirement already satisfied: urllib3!=1.25.0,!=1.25.1,<1.26,>=1.21.1 in /usr/local/lib/python3.7/dist-packages (from requests<3.0.0,>=2.13.0->spacy) (1.24.3)\n",
            "Requirement already satisfied: idna<3,>=2.5 in /usr/local/lib/python3.7/dist-packages (from requests<3.0.0,>=2.13.0->spacy) (2.10)\n",
            "Requirement already satisfied: chardet<4,>=3.0.2 in /usr/local/lib/python3.7/dist-packages (from requests<3.0.0,>=2.13.0->spacy) (3.0.4)\n",
            "Requirement already satisfied: click<9.0.0,>=7.1.1 in /usr/local/lib/python3.7/dist-packages (from typer<0.5.0,>=0.3.0->spacy) (7.1.2)\n",
            "Requirement already satisfied: MarkupSafe>=0.23 in /usr/local/lib/python3.7/dist-packages (from jinja2->spacy) (2.0.1)\n"
          ]
        }
      ]
    },
    {
      "cell_type": "code",
      "source": [
        "# spacy needs language models - let's make sure they are downloaded\n",
        "!python -m spacy download en_core_web_sm\n",
        "!python -m spacy download en_core_web_md"
      ],
      "metadata": {
        "colab": {
          "base_uri": "https://localhost:8080/"
        },
        "id": "rOnwQ2jGSKhL",
        "outputId": "37db7371-39cd-407c-e4c9-89dd6bfbe74f"
      },
      "execution_count": 30,
      "outputs": [
        {
          "output_type": "stream",
          "name": "stdout",
          "text": [
            "Collecting en-core-web-sm==3.3.0\n",
            "  Downloading https://github.com/explosion/spacy-models/releases/download/en_core_web_sm-3.3.0/en_core_web_sm-3.3.0-py3-none-any.whl (12.8 MB)\n",
            "\u001b[K     |████████████████████████████████| 12.8 MB 506 kB/s \n",
            "\u001b[?25hRequirement already satisfied: spacy<3.4.0,>=3.3.0.dev0 in /usr/local/lib/python3.7/dist-packages (from en-core-web-sm==3.3.0) (3.3.0)\n",
            "Requirement already satisfied: spacy-legacy<3.1.0,>=3.0.9 in /usr/local/lib/python3.7/dist-packages (from spacy<3.4.0,>=3.3.0.dev0->en-core-web-sm==3.3.0) (3.0.9)\n",
            "Requirement already satisfied: numpy>=1.15.0 in /usr/local/lib/python3.7/dist-packages (from spacy<3.4.0,>=3.3.0.dev0->en-core-web-sm==3.3.0) (1.21.6)\n",
            "Requirement already satisfied: jinja2 in /usr/local/lib/python3.7/dist-packages (from spacy<3.4.0,>=3.3.0.dev0->en-core-web-sm==3.3.0) (2.11.3)\n",
            "Requirement already satisfied: requests<3.0.0,>=2.13.0 in /usr/local/lib/python3.7/dist-packages (from spacy<3.4.0,>=3.3.0.dev0->en-core-web-sm==3.3.0) (2.23.0)\n",
            "Requirement already satisfied: srsly<3.0.0,>=2.4.3 in /usr/local/lib/python3.7/dist-packages (from spacy<3.4.0,>=3.3.0.dev0->en-core-web-sm==3.3.0) (2.4.3)\n",
            "Requirement already satisfied: tqdm<5.0.0,>=4.38.0 in /usr/local/lib/python3.7/dist-packages (from spacy<3.4.0,>=3.3.0.dev0->en-core-web-sm==3.3.0) (4.64.0)\n",
            "Requirement already satisfied: murmurhash<1.1.0,>=0.28.0 in /usr/local/lib/python3.7/dist-packages (from spacy<3.4.0,>=3.3.0.dev0->en-core-web-sm==3.3.0) (1.0.7)\n",
            "Requirement already satisfied: thinc<8.1.0,>=8.0.14 in /usr/local/lib/python3.7/dist-packages (from spacy<3.4.0,>=3.3.0.dev0->en-core-web-sm==3.3.0) (8.0.15)\n",
            "Requirement already satisfied: preshed<3.1.0,>=3.0.2 in /usr/local/lib/python3.7/dist-packages (from spacy<3.4.0,>=3.3.0.dev0->en-core-web-sm==3.3.0) (3.0.6)\n",
            "Requirement already satisfied: packaging>=20.0 in /usr/local/lib/python3.7/dist-packages (from spacy<3.4.0,>=3.3.0.dev0->en-core-web-sm==3.3.0) (21.3)\n",
            "Requirement already satisfied: spacy-loggers<2.0.0,>=1.0.0 in /usr/local/lib/python3.7/dist-packages (from spacy<3.4.0,>=3.3.0.dev0->en-core-web-sm==3.3.0) (1.0.2)\n",
            "Requirement already satisfied: pydantic!=1.8,!=1.8.1,<1.9.0,>=1.7.4 in /usr/local/lib/python3.7/dist-packages (from spacy<3.4.0,>=3.3.0.dev0->en-core-web-sm==3.3.0) (1.8.2)\n",
            "Requirement already satisfied: catalogue<2.1.0,>=2.0.6 in /usr/local/lib/python3.7/dist-packages (from spacy<3.4.0,>=3.3.0.dev0->en-core-web-sm==3.3.0) (2.0.7)\n",
            "Requirement already satisfied: setuptools in /usr/local/lib/python3.7/dist-packages (from spacy<3.4.0,>=3.3.0.dev0->en-core-web-sm==3.3.0) (57.4.0)\n",
            "Requirement already satisfied: typing-extensions<4.0.0.0,>=3.7.4 in /usr/local/lib/python3.7/dist-packages (from spacy<3.4.0,>=3.3.0.dev0->en-core-web-sm==3.3.0) (3.10.0.2)\n",
            "Requirement already satisfied: pathy>=0.3.5 in /usr/local/lib/python3.7/dist-packages (from spacy<3.4.0,>=3.3.0.dev0->en-core-web-sm==3.3.0) (0.6.1)\n",
            "Requirement already satisfied: cymem<2.1.0,>=2.0.2 in /usr/local/lib/python3.7/dist-packages (from spacy<3.4.0,>=3.3.0.dev0->en-core-web-sm==3.3.0) (2.0.6)\n",
            "Requirement already satisfied: langcodes<4.0.0,>=3.2.0 in /usr/local/lib/python3.7/dist-packages (from spacy<3.4.0,>=3.3.0.dev0->en-core-web-sm==3.3.0) (3.3.0)\n",
            "Requirement already satisfied: wasabi<1.1.0,>=0.9.1 in /usr/local/lib/python3.7/dist-packages (from spacy<3.4.0,>=3.3.0.dev0->en-core-web-sm==3.3.0) (0.9.1)\n",
            "Requirement already satisfied: typer<0.5.0,>=0.3.0 in /usr/local/lib/python3.7/dist-packages (from spacy<3.4.0,>=3.3.0.dev0->en-core-web-sm==3.3.0) (0.4.1)\n",
            "Requirement already satisfied: blis<0.8.0,>=0.4.0 in /usr/local/lib/python3.7/dist-packages (from spacy<3.4.0,>=3.3.0.dev0->en-core-web-sm==3.3.0) (0.4.1)\n",
            "Requirement already satisfied: zipp>=0.5 in /usr/local/lib/python3.7/dist-packages (from catalogue<2.1.0,>=2.0.6->spacy<3.4.0,>=3.3.0.dev0->en-core-web-sm==3.3.0) (3.8.0)\n",
            "Requirement already satisfied: pyparsing!=3.0.5,>=2.0.2 in /usr/local/lib/python3.7/dist-packages (from packaging>=20.0->spacy<3.4.0,>=3.3.0.dev0->en-core-web-sm==3.3.0) (3.0.8)\n",
            "Requirement already satisfied: smart-open<6.0.0,>=5.0.0 in /usr/local/lib/python3.7/dist-packages (from pathy>=0.3.5->spacy<3.4.0,>=3.3.0.dev0->en-core-web-sm==3.3.0) (5.2.1)\n",
            "Requirement already satisfied: chardet<4,>=3.0.2 in /usr/local/lib/python3.7/dist-packages (from requests<3.0.0,>=2.13.0->spacy<3.4.0,>=3.3.0.dev0->en-core-web-sm==3.3.0) (3.0.4)\n",
            "Requirement already satisfied: urllib3!=1.25.0,!=1.25.1,<1.26,>=1.21.1 in /usr/local/lib/python3.7/dist-packages (from requests<3.0.0,>=2.13.0->spacy<3.4.0,>=3.3.0.dev0->en-core-web-sm==3.3.0) (1.24.3)\n",
            "Requirement already satisfied: certifi>=2017.4.17 in /usr/local/lib/python3.7/dist-packages (from requests<3.0.0,>=2.13.0->spacy<3.4.0,>=3.3.0.dev0->en-core-web-sm==3.3.0) (2021.10.8)\n",
            "Requirement already satisfied: idna<3,>=2.5 in /usr/local/lib/python3.7/dist-packages (from requests<3.0.0,>=2.13.0->spacy<3.4.0,>=3.3.0.dev0->en-core-web-sm==3.3.0) (2.10)\n",
            "Requirement already satisfied: click<9.0.0,>=7.1.1 in /usr/local/lib/python3.7/dist-packages (from typer<0.5.0,>=0.3.0->spacy<3.4.0,>=3.3.0.dev0->en-core-web-sm==3.3.0) (7.1.2)\n",
            "Requirement already satisfied: MarkupSafe>=0.23 in /usr/local/lib/python3.7/dist-packages (from jinja2->spacy<3.4.0,>=3.3.0.dev0->en-core-web-sm==3.3.0) (2.0.1)\n",
            "\u001b[38;5;2m✔ Download and installation successful\u001b[0m\n",
            "You can now load the package via spacy.load('en_core_web_sm')\n",
            "Collecting en-core-web-md==3.3.0\n",
            "  Downloading https://github.com/explosion/spacy-models/releases/download/en_core_web_md-3.3.0/en_core_web_md-3.3.0-py3-none-any.whl (33.5 MB)\n",
            "\u001b[K     |████████████████████████████████| 33.5 MB 1.3 MB/s \n",
            "\u001b[?25hRequirement already satisfied: spacy<3.4.0,>=3.3.0.dev0 in /usr/local/lib/python3.7/dist-packages (from en-core-web-md==3.3.0) (3.3.0)\n",
            "Requirement already satisfied: thinc<8.1.0,>=8.0.14 in /usr/local/lib/python3.7/dist-packages (from spacy<3.4.0,>=3.3.0.dev0->en-core-web-md==3.3.0) (8.0.15)\n",
            "Requirement already satisfied: murmurhash<1.1.0,>=0.28.0 in /usr/local/lib/python3.7/dist-packages (from spacy<3.4.0,>=3.3.0.dev0->en-core-web-md==3.3.0) (1.0.7)\n",
            "Requirement already satisfied: requests<3.0.0,>=2.13.0 in /usr/local/lib/python3.7/dist-packages (from spacy<3.4.0,>=3.3.0.dev0->en-core-web-md==3.3.0) (2.23.0)\n",
            "Requirement already satisfied: spacy-loggers<2.0.0,>=1.0.0 in /usr/local/lib/python3.7/dist-packages (from spacy<3.4.0,>=3.3.0.dev0->en-core-web-md==3.3.0) (1.0.2)\n",
            "Requirement already satisfied: setuptools in /usr/local/lib/python3.7/dist-packages (from spacy<3.4.0,>=3.3.0.dev0->en-core-web-md==3.3.0) (57.4.0)\n",
            "Requirement already satisfied: pydantic!=1.8,!=1.8.1,<1.9.0,>=1.7.4 in /usr/local/lib/python3.7/dist-packages (from spacy<3.4.0,>=3.3.0.dev0->en-core-web-md==3.3.0) (1.8.2)\n",
            "Requirement already satisfied: jinja2 in /usr/local/lib/python3.7/dist-packages (from spacy<3.4.0,>=3.3.0.dev0->en-core-web-md==3.3.0) (2.11.3)\n",
            "Requirement already satisfied: spacy-legacy<3.1.0,>=3.0.9 in /usr/local/lib/python3.7/dist-packages (from spacy<3.4.0,>=3.3.0.dev0->en-core-web-md==3.3.0) (3.0.9)\n",
            "Requirement already satisfied: numpy>=1.15.0 in /usr/local/lib/python3.7/dist-packages (from spacy<3.4.0,>=3.3.0.dev0->en-core-web-md==3.3.0) (1.21.6)\n",
            "Requirement already satisfied: packaging>=20.0 in /usr/local/lib/python3.7/dist-packages (from spacy<3.4.0,>=3.3.0.dev0->en-core-web-md==3.3.0) (21.3)\n",
            "Requirement already satisfied: typer<0.5.0,>=0.3.0 in /usr/local/lib/python3.7/dist-packages (from spacy<3.4.0,>=3.3.0.dev0->en-core-web-md==3.3.0) (0.4.1)\n",
            "Requirement already satisfied: catalogue<2.1.0,>=2.0.6 in /usr/local/lib/python3.7/dist-packages (from spacy<3.4.0,>=3.3.0.dev0->en-core-web-md==3.3.0) (2.0.7)\n",
            "Requirement already satisfied: langcodes<4.0.0,>=3.2.0 in /usr/local/lib/python3.7/dist-packages (from spacy<3.4.0,>=3.3.0.dev0->en-core-web-md==3.3.0) (3.3.0)\n",
            "Requirement already satisfied: blis<0.8.0,>=0.4.0 in /usr/local/lib/python3.7/dist-packages (from spacy<3.4.0,>=3.3.0.dev0->en-core-web-md==3.3.0) (0.4.1)\n",
            "Requirement already satisfied: pathy>=0.3.5 in /usr/local/lib/python3.7/dist-packages (from spacy<3.4.0,>=3.3.0.dev0->en-core-web-md==3.3.0) (0.6.1)\n",
            "Requirement already satisfied: srsly<3.0.0,>=2.4.3 in /usr/local/lib/python3.7/dist-packages (from spacy<3.4.0,>=3.3.0.dev0->en-core-web-md==3.3.0) (2.4.3)\n",
            "Requirement already satisfied: cymem<2.1.0,>=2.0.2 in /usr/local/lib/python3.7/dist-packages (from spacy<3.4.0,>=3.3.0.dev0->en-core-web-md==3.3.0) (2.0.6)\n",
            "Requirement already satisfied: wasabi<1.1.0,>=0.9.1 in /usr/local/lib/python3.7/dist-packages (from spacy<3.4.0,>=3.3.0.dev0->en-core-web-md==3.3.0) (0.9.1)\n",
            "Requirement already satisfied: tqdm<5.0.0,>=4.38.0 in /usr/local/lib/python3.7/dist-packages (from spacy<3.4.0,>=3.3.0.dev0->en-core-web-md==3.3.0) (4.64.0)\n",
            "Requirement already satisfied: preshed<3.1.0,>=3.0.2 in /usr/local/lib/python3.7/dist-packages (from spacy<3.4.0,>=3.3.0.dev0->en-core-web-md==3.3.0) (3.0.6)\n",
            "Requirement already satisfied: typing-extensions<4.0.0.0,>=3.7.4 in /usr/local/lib/python3.7/dist-packages (from spacy<3.4.0,>=3.3.0.dev0->en-core-web-md==3.3.0) (3.10.0.2)\n",
            "Requirement already satisfied: zipp>=0.5 in /usr/local/lib/python3.7/dist-packages (from catalogue<2.1.0,>=2.0.6->spacy<3.4.0,>=3.3.0.dev0->en-core-web-md==3.3.0) (3.8.0)\n",
            "Requirement already satisfied: pyparsing!=3.0.5,>=2.0.2 in /usr/local/lib/python3.7/dist-packages (from packaging>=20.0->spacy<3.4.0,>=3.3.0.dev0->en-core-web-md==3.3.0) (3.0.8)\n",
            "Requirement already satisfied: smart-open<6.0.0,>=5.0.0 in /usr/local/lib/python3.7/dist-packages (from pathy>=0.3.5->spacy<3.4.0,>=3.3.0.dev0->en-core-web-md==3.3.0) (5.2.1)\n",
            "Requirement already satisfied: idna<3,>=2.5 in /usr/local/lib/python3.7/dist-packages (from requests<3.0.0,>=2.13.0->spacy<3.4.0,>=3.3.0.dev0->en-core-web-md==3.3.0) (2.10)\n",
            "Requirement already satisfied: certifi>=2017.4.17 in /usr/local/lib/python3.7/dist-packages (from requests<3.0.0,>=2.13.0->spacy<3.4.0,>=3.3.0.dev0->en-core-web-md==3.3.0) (2021.10.8)\n",
            "Requirement already satisfied: chardet<4,>=3.0.2 in /usr/local/lib/python3.7/dist-packages (from requests<3.0.0,>=2.13.0->spacy<3.4.0,>=3.3.0.dev0->en-core-web-md==3.3.0) (3.0.4)\n",
            "Requirement already satisfied: urllib3!=1.25.0,!=1.25.1,<1.26,>=1.21.1 in /usr/local/lib/python3.7/dist-packages (from requests<3.0.0,>=2.13.0->spacy<3.4.0,>=3.3.0.dev0->en-core-web-md==3.3.0) (1.24.3)\n",
            "Requirement already satisfied: click<9.0.0,>=7.1.1 in /usr/local/lib/python3.7/dist-packages (from typer<0.5.0,>=0.3.0->spacy<3.4.0,>=3.3.0.dev0->en-core-web-md==3.3.0) (7.1.2)\n",
            "Requirement already satisfied: MarkupSafe>=0.23 in /usr/local/lib/python3.7/dist-packages (from jinja2->spacy<3.4.0,>=3.3.0.dev0->en-core-web-md==3.3.0) (2.0.1)\n",
            "\u001b[38;5;2m✔ Download and installation successful\u001b[0m\n",
            "You can now load the package via spacy.load('en_core_web_md')\n"
          ]
        }
      ]
    },
    {
      "cell_type": "code",
      "source": [
        "import sklearn.model_selection\n",
        "import spacy\n",
        "from ml_datasets import imdb\n",
        "import pandas as pd\n",
        "import numpy as np\n",
        "import matplotlib.pyplot as plt\n",
        "import seaborn as sns # another useful visualization library "
      ],
      "metadata": {
        "id": "lqnHd_b7SN05"
      },
      "execution_count": 31,
      "outputs": []
    },
    {
      "cell_type": "code",
      "source": [
        "# Create an NLP pipeline\n",
        "nlp = spacy.load('en_core_web_md')"
      ],
      "metadata": {
        "id": "Xb8lp5OhR3s1"
      },
      "execution_count": 32,
      "outputs": []
    },
    {
      "cell_type": "markdown",
      "source": [
        "We will now normalise our text. We will first build our code, apply it on random text and then apply it onto our data."
      ],
      "metadata": {
        "id": "VYhL7oplVYnB"
      }
    },
    {
      "cell_type": "code",
      "source": [
        "text = \" Hi my name is Angela, my favourite number is 8 which is < 10. What is your favourite colour? Prime colours are: red, blue, yellow.\"\n",
        "\n",
        "def preprocess(text):\n",
        "    text = text.lower()\n",
        "    text=text.strip()\n",
        "    text=re.compile('<.*?>').sub('', text)\n",
        "    text = re.sub(r'\\s+',' ',text) \n",
        "    text = re.compile('[%s]' % re.escape(string.punctuation)).sub(' ', text)\n",
        "    text = re.sub(r'\\[[0-9]*\\]',' ',text) \n",
        "    text = re.sub('\\s+', ' ', text) \n",
        "    text=re.sub(r'[^\\w\\s]', '', str(text).lower().strip())\n",
        "    text = re.sub(r'\\d',' ',text)\n",
        "    \n",
        "    return text\n",
        "\n",
        "text=preprocess(text)\n",
        "print(text)"
      ],
      "metadata": {
        "id": "46Z7cdSr7-XJ",
        "colab": {
          "base_uri": "https://localhost:8080/"
        },
        "outputId": "4cf7ccb7-bd77-4320-de98-144684e9b605"
      },
      "execution_count": 33,
      "outputs": [
        {
          "output_type": "stream",
          "name": "stdout",
          "text": [
            "hi my name is angela my favourite number is   which is    what is your favourtite colour prime colours are red blue yellow\n"
          ]
        }
      ]
    },
    {
      "cell_type": "markdown",
      "source": [
        "As we can see we have gotten rid of all numbers and punctuation characters. It has also gotten rid of capital letters which is important as capital letters cause the word to have a higher value, even if it is the same word."
      ],
      "metadata": {
        "id": "xWV1IoyNW12L"
      }
    },
    {
      "cell_type": "code",
      "source": [
        "nltk.download('punkt')\n",
        "nltk.download('averaged_perceptron_tagger')\n",
        "nltk.download('wordnet')\n",
        "nltk.download('stopwords')"
      ],
      "metadata": {
        "colab": {
          "base_uri": "https://localhost:8080/"
        },
        "id": "LDd6zF9acDxV",
        "outputId": "51582ee5-8ae8-4a06-cc5e-274e3d3e397e"
      },
      "execution_count": 34,
      "outputs": [
        {
          "output_type": "stream",
          "name": "stdout",
          "text": [
            "[nltk_data] Downloading package punkt to /root/nltk_data...\n",
            "[nltk_data]   Package punkt is already up-to-date!\n",
            "[nltk_data] Downloading package averaged_perceptron_tagger to\n",
            "[nltk_data]     /root/nltk_data...\n",
            "[nltk_data]   Package averaged_perceptron_tagger is already up-to-\n",
            "[nltk_data]       date!\n",
            "[nltk_data] Downloading package wordnet to /root/nltk_data...\n",
            "[nltk_data]   Package wordnet is already up-to-date!\n",
            "[nltk_data] Downloading package stopwords to /root/nltk_data...\n",
            "[nltk_data]   Package stopwords is already up-to-date!\n"
          ]
        },
        {
          "output_type": "execute_result",
          "data": {
            "text/plain": [
              "True"
            ]
          },
          "metadata": {},
          "execution_count": 34
        }
      ]
    },
    {
      "cell_type": "code",
      "source": [
        "def stopword(string):\n",
        "    a= [i for i in string.split() if i not in stopwords.words('english')] #it is important for us to specifiy english as there may be reviews in other languages\n",
        "    return ' '.join(a)\n",
        "\n",
        "text=stopword(text)\n",
        "print(text)\n",
        "\n",
        "snow = SnowballStemmer('english')\n",
        "def stemming(string):\n",
        "    a=[snow.stem(i) for i in word_tokenize(string) ]\n",
        "    return \" \".join(a)\n",
        "text=stemming(text)\n",
        "print(text)\n",
        "\n",
        "wl = WordNetLemmatizer()\n",
        "\n",
        "def get_wordnet_pos(tag):\n",
        "    if tag.startswith('J'):\n",
        "        return wordnet.ADJ\n",
        "    elif tag.startswith('V'):\n",
        "        return wordnet.VERB\n",
        "    elif tag.startswith('N'):\n",
        "        return wordnet.NOUN\n",
        "    elif tag.startswith('R'):\n",
        "        return wordnet.ADV\n",
        "    else:\n",
        "        return wordnet.NOUN\n",
        "\n",
        "def lemmatizer(string):\n",
        "    word_pos_tags = nltk.pos_tag(word_tokenize(string)) \n",
        "    a=[wl.lemmatize(tag[0], get_wordnet_pos(tag[1])) for idx, tag in enumerate(word_pos_tags)] \n",
        "    return \" \".join(a)\n",
        "\n",
        "text = lemmatizer(text)\n",
        "print(text)"
      ],
      "metadata": {
        "id": "StGYO9se54ap",
        "colab": {
          "base_uri": "https://localhost:8080/"
        },
        "outputId": "22d831aa-bcfd-4447-c204-a91ba47f048c"
      },
      "execution_count": 35,
      "outputs": [
        {
          "output_type": "stream",
          "name": "stdout",
          "text": [
            "hi name angela favourite number favourtite colour prime colours red blue yellow\n",
            "hi name angela favourit number favourtit colour prime colour red blue yellow\n",
            "hi name angela favourit number favourtit colour prime colour red blue yellow\n"
          ]
        }
      ]
    },
    {
      "cell_type": "code",
      "source": [
        "# get the list of stopwords\n",
        "stopwords = nlp.Defaults.stop_words\n",
        "print(f\"There are {len(stopwords)} stop words, which are:\")\n",
        "print(sorted(stopwords))"
      ],
      "metadata": {
        "colab": {
          "base_uri": "https://localhost:8080/"
        },
        "id": "j65W7qg2Ysjn",
        "outputId": "0597a060-77f3-4d7a-b199-42518eedd168"
      },
      "execution_count": 36,
      "outputs": [
        {
          "output_type": "stream",
          "name": "stdout",
          "text": [
            "There are 326 stop words, which are:\n",
            "[\"'d\", \"'ll\", \"'m\", \"'re\", \"'s\", \"'ve\", 'a', 'about', 'above', 'across', 'after', 'afterwards', 'again', 'against', 'all', 'almost', 'alone', 'along', 'already', 'also', 'although', 'always', 'am', 'among', 'amongst', 'amount', 'an', 'and', 'another', 'any', 'anyhow', 'anyone', 'anything', 'anyway', 'anywhere', 'are', 'around', 'as', 'at', 'back', 'be', 'became', 'because', 'become', 'becomes', 'becoming', 'been', 'before', 'beforehand', 'behind', 'being', 'below', 'beside', 'besides', 'between', 'beyond', 'both', 'bottom', 'but', 'by', 'ca', 'call', 'can', 'cannot', 'could', 'did', 'do', 'does', 'doing', 'done', 'down', 'due', 'during', 'each', 'eight', 'either', 'eleven', 'else', 'elsewhere', 'empty', 'enough', 'even', 'ever', 'every', 'everyone', 'everything', 'everywhere', 'except', 'few', 'fifteen', 'fifty', 'first', 'five', 'for', 'former', 'formerly', 'forty', 'four', 'from', 'front', 'full', 'further', 'get', 'give', 'go', 'had', 'has', 'have', 'he', 'hence', 'her', 'here', 'hereafter', 'hereby', 'herein', 'hereupon', 'hers', 'herself', 'him', 'himself', 'his', 'how', 'however', 'hundred', 'i', 'if', 'in', 'indeed', 'into', 'is', 'it', 'its', 'itself', 'just', 'keep', 'last', 'latter', 'latterly', 'least', 'less', 'made', 'make', 'many', 'may', 'me', 'meanwhile', 'might', 'mine', 'more', 'moreover', 'most', 'mostly', 'move', 'much', 'must', 'my', 'myself', \"n't\", 'name', 'namely', 'neither', 'never', 'nevertheless', 'next', 'nine', 'no', 'nobody', 'none', 'noone', 'nor', 'not', 'nothing', 'now', 'nowhere', 'n‘t', 'n’t', 'of', 'off', 'often', 'on', 'once', 'one', 'only', 'onto', 'or', 'other', 'others', 'otherwise', 'our', 'ours', 'ourselves', 'out', 'over', 'own', 'part', 'per', 'perhaps', 'please', 'put', 'quite', 'rather', 're', 'really', 'regarding', 'same', 'say', 'see', 'seem', 'seemed', 'seeming', 'seems', 'serious', 'several', 'she', 'should', 'show', 'side', 'since', 'six', 'sixty', 'so', 'some', 'somehow', 'someone', 'something', 'sometime', 'sometimes', 'somewhere', 'still', 'such', 'take', 'ten', 'than', 'that', 'the', 'their', 'them', 'themselves', 'then', 'thence', 'there', 'thereafter', 'thereby', 'therefore', 'therein', 'thereupon', 'these', 'they', 'third', 'this', 'those', 'though', 'three', 'through', 'throughout', 'thru', 'thus', 'to', 'together', 'too', 'top', 'toward', 'towards', 'twelve', 'twenty', 'two', 'under', 'unless', 'until', 'up', 'upon', 'us', 'used', 'using', 'various', 'very', 'via', 'was', 'we', 'well', 'were', 'what', 'whatever', 'when', 'whence', 'whenever', 'where', 'whereafter', 'whereas', 'whereby', 'wherein', 'whereupon', 'wherever', 'whether', 'which', 'while', 'whither', 'who', 'whoever', 'whole', 'whom', 'whose', 'why', 'will', 'with', 'within', 'without', 'would', 'yet', 'you', 'your', 'yours', 'yourself', 'yourselves', '‘d', '‘ll', '‘m', '‘re', '‘s', '‘ve', '’d', '’ll', '’m', '’re', '’s', '’ve']\n"
          ]
        }
      ]
    },
    {
      "cell_type": "markdown",
      "source": [
        "modules to import to for Lemmatization for stop words"
      ],
      "metadata": {
        "id": "7ijuAejET4Gl"
      }
    },
    {
      "cell_type": "code",
      "source": [
        "import re, string\n",
        "import nltk\n",
        "from nltk.tokenize import word_tokenize\n",
        "from nltk.corpus import stopwords\n",
        "from nltk.tokenize import word_tokenize\n",
        "from nltk.stem import SnowballStemmer\n",
        "from nltk.corpus import wordnet\n",
        "from nltk.stem import WordNetLemmatizer"
      ],
      "metadata": {
        "id": "9IhZU4sode-6"
      },
      "execution_count": 39,
      "outputs": []
    },
    {
      "cell_type": "code",
      "source": [
        "def finalpreprocess(string):\n",
        "    return lemmatizer(stopword(preprocess(string)))\n",
        "\n",
        "df_test_over['clean_text'] = df_test_over['text'].astype(str).apply(lambda x: finalpreprocess(x)) #the clean text is what we shall be using"
      ],
      "metadata": {
        "id": "EvqIHRDUc9X8"
      },
      "execution_count": 40,
      "outputs": []
    },
    {
      "cell_type": "code",
      "source": [
        "dframe_train_no_nans.head()"
      ],
      "metadata": {
        "colab": {
          "base_uri": "https://localhost:8080/",
          "height": 206
        },
        "id": "hQ_Z_nQidHEl",
        "outputId": "0d92ade8-7868-4f53-dffc-16ae766dda70"
      },
      "execution_count": 41,
      "outputs": [
        {
          "output_type": "execute_result",
          "data": {
            "text/plain": [
              "               review_id                                               text  \\\n",
              "0  product_review_000000                                 guitars look new.    \n",
              "1  product_review_000001  I'd heard this game had crude humor, but man i...   \n",
              "2  product_review_000002  It's a decent game but nothing nearly as good ...   \n",
              "3  product_review_000003  This device worked exceptionally well for my X...   \n",
              "4  product_review_000004  great racing game, with a lot of cool cars to ...   \n",
              "\n",
              "  verified review_score     product_category  \n",
              "0    False          5.0  musical_instruments  \n",
              "1     True          4.0          video_games  \n",
              "2     True          4.0          video_games  \n",
              "3    False          5.0          video_games  \n",
              "4     True          4.0          video_games  "
            ],
            "text/html": [
              "\n",
              "  <div id=\"df-5f8d5fdb-4fd5-4148-b5e4-4df7617fb598\">\n",
              "    <div class=\"colab-df-container\">\n",
              "      <div>\n",
              "<style scoped>\n",
              "    .dataframe tbody tr th:only-of-type {\n",
              "        vertical-align: middle;\n",
              "    }\n",
              "\n",
              "    .dataframe tbody tr th {\n",
              "        vertical-align: top;\n",
              "    }\n",
              "\n",
              "    .dataframe thead th {\n",
              "        text-align: right;\n",
              "    }\n",
              "</style>\n",
              "<table border=\"1\" class=\"dataframe\">\n",
              "  <thead>\n",
              "    <tr style=\"text-align: right;\">\n",
              "      <th></th>\n",
              "      <th>review_id</th>\n",
              "      <th>text</th>\n",
              "      <th>verified</th>\n",
              "      <th>review_score</th>\n",
              "      <th>product_category</th>\n",
              "    </tr>\n",
              "  </thead>\n",
              "  <tbody>\n",
              "    <tr>\n",
              "      <th>0</th>\n",
              "      <td>product_review_000000</td>\n",
              "      <td>guitars look new.</td>\n",
              "      <td>False</td>\n",
              "      <td>5.0</td>\n",
              "      <td>musical_instruments</td>\n",
              "    </tr>\n",
              "    <tr>\n",
              "      <th>1</th>\n",
              "      <td>product_review_000001</td>\n",
              "      <td>I'd heard this game had crude humor, but man i...</td>\n",
              "      <td>True</td>\n",
              "      <td>4.0</td>\n",
              "      <td>video_games</td>\n",
              "    </tr>\n",
              "    <tr>\n",
              "      <th>2</th>\n",
              "      <td>product_review_000002</td>\n",
              "      <td>It's a decent game but nothing nearly as good ...</td>\n",
              "      <td>True</td>\n",
              "      <td>4.0</td>\n",
              "      <td>video_games</td>\n",
              "    </tr>\n",
              "    <tr>\n",
              "      <th>3</th>\n",
              "      <td>product_review_000003</td>\n",
              "      <td>This device worked exceptionally well for my X...</td>\n",
              "      <td>False</td>\n",
              "      <td>5.0</td>\n",
              "      <td>video_games</td>\n",
              "    </tr>\n",
              "    <tr>\n",
              "      <th>4</th>\n",
              "      <td>product_review_000004</td>\n",
              "      <td>great racing game, with a lot of cool cars to ...</td>\n",
              "      <td>True</td>\n",
              "      <td>4.0</td>\n",
              "      <td>video_games</td>\n",
              "    </tr>\n",
              "  </tbody>\n",
              "</table>\n",
              "</div>\n",
              "      <button class=\"colab-df-convert\" onclick=\"convertToInteractive('df-5f8d5fdb-4fd5-4148-b5e4-4df7617fb598')\"\n",
              "              title=\"Convert this dataframe to an interactive table.\"\n",
              "              style=\"display:none;\">\n",
              "        \n",
              "  <svg xmlns=\"http://www.w3.org/2000/svg\" height=\"24px\"viewBox=\"0 0 24 24\"\n",
              "       width=\"24px\">\n",
              "    <path d=\"M0 0h24v24H0V0z\" fill=\"none\"/>\n",
              "    <path d=\"M18.56 5.44l.94 2.06.94-2.06 2.06-.94-2.06-.94-.94-2.06-.94 2.06-2.06.94zm-11 1L8.5 8.5l.94-2.06 2.06-.94-2.06-.94L8.5 2.5l-.94 2.06-2.06.94zm10 10l.94 2.06.94-2.06 2.06-.94-2.06-.94-.94-2.06-.94 2.06-2.06.94z\"/><path d=\"M17.41 7.96l-1.37-1.37c-.4-.4-.92-.59-1.43-.59-.52 0-1.04.2-1.43.59L10.3 9.45l-7.72 7.72c-.78.78-.78 2.05 0 2.83L4 21.41c.39.39.9.59 1.41.59.51 0 1.02-.2 1.41-.59l7.78-7.78 2.81-2.81c.8-.78.8-2.07 0-2.86zM5.41 20L4 18.59l7.72-7.72 1.47 1.35L5.41 20z\"/>\n",
              "  </svg>\n",
              "      </button>\n",
              "      \n",
              "  <style>\n",
              "    .colab-df-container {\n",
              "      display:flex;\n",
              "      flex-wrap:wrap;\n",
              "      gap: 12px;\n",
              "    }\n",
              "\n",
              "    .colab-df-convert {\n",
              "      background-color: #E8F0FE;\n",
              "      border: none;\n",
              "      border-radius: 50%;\n",
              "      cursor: pointer;\n",
              "      display: none;\n",
              "      fill: #1967D2;\n",
              "      height: 32px;\n",
              "      padding: 0 0 0 0;\n",
              "      width: 32px;\n",
              "    }\n",
              "\n",
              "    .colab-df-convert:hover {\n",
              "      background-color: #E2EBFA;\n",
              "      box-shadow: 0px 1px 2px rgba(60, 64, 67, 0.3), 0px 1px 3px 1px rgba(60, 64, 67, 0.15);\n",
              "      fill: #174EA6;\n",
              "    }\n",
              "\n",
              "    [theme=dark] .colab-df-convert {\n",
              "      background-color: #3B4455;\n",
              "      fill: #D2E3FC;\n",
              "    }\n",
              "\n",
              "    [theme=dark] .colab-df-convert:hover {\n",
              "      background-color: #434B5C;\n",
              "      box-shadow: 0px 1px 3px 1px rgba(0, 0, 0, 0.15);\n",
              "      filter: drop-shadow(0px 1px 2px rgba(0, 0, 0, 0.3));\n",
              "      fill: #FFFFFF;\n",
              "    }\n",
              "  </style>\n",
              "\n",
              "      <script>\n",
              "        const buttonEl =\n",
              "          document.querySelector('#df-5f8d5fdb-4fd5-4148-b5e4-4df7617fb598 button.colab-df-convert');\n",
              "        buttonEl.style.display =\n",
              "          google.colab.kernel.accessAllowed ? 'block' : 'none';\n",
              "\n",
              "        async function convertToInteractive(key) {\n",
              "          const element = document.querySelector('#df-5f8d5fdb-4fd5-4148-b5e4-4df7617fb598');\n",
              "          const dataTable =\n",
              "            await google.colab.kernel.invokeFunction('convertToInteractive',\n",
              "                                                     [key], {});\n",
              "          if (!dataTable) return;\n",
              "\n",
              "          const docLinkHtml = 'Like what you see? Visit the ' +\n",
              "            '<a target=\"_blank\" href=https://colab.research.google.com/notebooks/data_table.ipynb>data table notebook</a>'\n",
              "            + ' to learn more about interactive tables.';\n",
              "          element.innerHTML = '';\n",
              "          dataTable['output_type'] = 'display_data';\n",
              "          await google.colab.output.renderOutput(dataTable, element);\n",
              "          const docLink = document.createElement('div');\n",
              "          docLink.innerHTML = docLinkHtml;\n",
              "          element.appendChild(docLink);\n",
              "        }\n",
              "      </script>\n",
              "    </div>\n",
              "  </div>\n",
              "  "
            ]
          },
          "metadata": {},
          "execution_count": 41
        }
      ]
    },
    {
      "cell_type": "markdown",
      "source": [
        "We now need to tokenize the clean text"
      ],
      "metadata": {
        "id": "c43nAVXsf3SC"
      }
    },
    {
      "cell_type": "code",
      "source": [
        "df_test_over['clean_text_tok']=[nltk.word_tokenize(i) for i in df_test_over['clean_text']] \n",
        "\n",
        "\n",
        "class MeanEmbeddingVectorizer(object):\n",
        "    def __init__(self, word2vec):\n",
        "        self.word2vec = word2vec\n",
        "\n",
        "        self.dim = len(next(iter(word2vec.values())))\n",
        "\n",
        "    def fit(self, X, y):\n",
        "        return self\n",
        "\n",
        "    def transform(self, X):\n",
        "        return np.array([\n",
        "            np.mean([self.word2vec[w] for w in words if w in self.word2vec]\n",
        "                    or [np.zeros(self.dim)], axis=0)\n",
        "            for words in X\n",
        "        ])"
      ],
      "metadata": {
        "id": "nug8FAx6kOlI"
      },
      "execution_count": 42,
      "outputs": []
    },
    {
      "cell_type": "markdown",
      "source": [
        "We will now split the data"
      ],
      "metadata": {
        "id": "5eQA73FugrGc"
      }
    },
    {
      "cell_type": "code",
      "source": [
        "dframe_test_over = df_test_over.drop(columns=['text'])"
      ],
      "metadata": {
        "id": "y-N5fWYgew5e"
      },
      "execution_count": 47,
      "outputs": []
    },
    {
      "cell_type": "code",
      "source": [
        "from sklearn.model_selection import train_test_split\n",
        "from sklearn.linear_model import LogisticRegression\n",
        "from sklearn.linear_model import SGDClassifier\n",
        "from sklearn.naive_bayes import MultinomialNB\n",
        "from sklearn.metrics import classification_report, f1_score, accuracy_score, confusion_matrix\n",
        "from sklearn.metrics import roc_curve, auc, roc_auc_score"
      ],
      "metadata": {
        "id": "N4Er1F3HfEgB"
      },
      "execution_count": 46,
      "outputs": []
    },
    {
      "cell_type": "code",
      "source": [
        "\n",
        "X_train, X_val, y_train, y_val = train_test_split(df_test_over[\"clean_text\"],\n",
        "                                                  df_test_over[\"product_category\"],\n",
        "                                                  test_size=0.3,\n",
        "                                                  shuffle=True)"
      ],
      "metadata": {
        "id": "myRWuC12e3e8"
      },
      "execution_count": 56,
      "outputs": []
    },
    {
      "cell_type": "code",
      "source": [
        "y_val1 = y_val.map({'musical_instruments': 1, 'video_games': 0}).astype(int)"
      ],
      "metadata": {
        "id": "QsuSTAgxe72u"
      },
      "execution_count": 57,
      "outputs": []
    },
    {
      "cell_type": "markdown",
      "source": [
        "We now need to vectorize our data"
      ],
      "metadata": {
        "id": "wRp9oYKojIKm"
      }
    },
    {
      "cell_type": "code",
      "source": [
        "from sklearn.feature_extraction.text import TfidfVectorizer\n",
        "from sklearn.feature_extraction.text import CountVectorizer\n",
        "from google.colab import files\n",
        "import io"
      ],
      "metadata": {
        "id": "gvoS_tqEhEdh"
      },
      "execution_count": 58,
      "outputs": []
    },
    {
      "cell_type": "code",
      "source": [
        "#TF-IDF\n",
        "tfidf_vectorizer = TfidfVectorizer(use_idf=True,ngram_range=(1,1))\n",
        "X_train_vectors_tfidf = tfidf_vectorizer.fit_transform(X_train)\n",
        "X_val_vectors_tfidf = tfidf_vectorizer.transform(X_val)\n",
        "from sklearn.metrics import classification_report\n",
        "lr_tfidf=LogisticRegression(solver = 'liblinear', C=10, penalty = 'l2',max_iter=300,class_weight='balanced')\n",
        "lr_tfidf.fit(X_train_vectors_tfidf, y_train)  #model\n",
        "\n",
        "\n",
        "y_predict = lr_tfidf.predict(X_val_vectors_tfidf)\n",
        "y_prob = lr_tfidf.predict_proba(X_val_vectors_tfidf)[:,1]\n",
        " \n",
        "\n",
        "target_names = ['musical_instruments','video_games']  \n",
        "clf_report = classification_report(y_val,y_predict)\n",
        "print(classification_report(y_val,y_predict))\n",
        "print('Confusion Matrix:',confusion_matrix(y_val, y_predict))\n",
        "\n",
        "sns.heatmap(confusion_matrix(y_val,y_predict, normalize='all'), annot=True)"
      ],
      "metadata": {
        "colab": {
          "base_uri": "https://localhost:8080/",
          "height": 473
        },
        "id": "RrnMplYTfKZP",
        "outputId": "30b4eff5-b990-4926-9001-c0333532720a"
      },
      "execution_count": 59,
      "outputs": [
        {
          "output_type": "stream",
          "name": "stdout",
          "text": [
            "                     precision    recall  f1-score   support\n",
            "\n",
            "musical_instruments       0.86      0.95      0.90      3061\n",
            "        video_games       0.98      0.93      0.95      6815\n",
            "\n",
            "           accuracy                           0.94      9876\n",
            "          macro avg       0.92      0.94      0.93      9876\n",
            "       weighted avg       0.94      0.94      0.94      9876\n",
            "\n",
            "Confusion Matrix: [[2913  148]\n",
            " [ 474 6341]]\n"
          ]
        },
        {
          "output_type": "execute_result",
          "data": {
            "text/plain": [
              "<matplotlib.axes._subplots.AxesSubplot at 0x7fe0bcac7890>"
            ]
          },
          "metadata": {},
          "execution_count": 59
        },
        {
          "output_type": "display_data",
          "data": {
            "text/plain": [
              "<Figure size 432x288 with 2 Axes>"
            ],
            "image/png": "[encoded data removed]"
          },
          "metadata": {
            "needs_background": "light"
          }
        }
      ]
    },
    {
      "cell_type": "code",
      "source": [
        "import gensim\n",
        "from gensim.models import Word2Vec \n",
        "\n",
        "from sklearn.metrics import confusion_matrix, ConfusionMatrixDisplay\n",
        "from mlxtend.plotting import plot_confusion_matrix\n",
        "from matplotlib.pyplot import subplots\n",
        "import sklearn.metrics as metrics\n",
        "from sklearn.neighbors import KNeighborsClassifier\n",
        "from sklearn.metrics import accuracy_score, f1_score"
      ],
      "metadata": {
        "id": "EAOecWZohOzH"
      },
      "execution_count": 60,
      "outputs": []
    },
    {
      "cell_type": "code",
      "source": [
        "knn=KNeighborsClassifier(n_neighbors=5)\n",
        "knn.fit(X_train_vectors_tfidf, y_train) \n",
        "y_predict= knn.predict(X_val_vectors_tfidf)\n",
        "\n",
        "print(classification_report(y_val,y_predict))"
      ],
      "metadata": {
        "colab": {
          "base_uri": "https://localhost:8080/"
        },
        "id": "kM_0pmdBfN8v",
        "outputId": "284069fa-815f-4582-db37-89b827f6621d"
      },
      "execution_count": 62,
      "outputs": [
        {
          "output_type": "stream",
          "name": "stdout",
          "text": [
            "                     precision    recall  f1-score   support\n",
            "\n",
            "musical_instruments       0.66      0.32      0.43      3061\n",
            "        video_games       0.75      0.92      0.83      6815\n",
            "\n",
            "           accuracy                           0.74      9876\n",
            "          macro avg       0.70      0.62      0.63      9876\n",
            "       weighted avg       0.72      0.74      0.71      9876\n",
            "\n"
          ]
        }
      ]
    },
    {
      "cell_type": "code",
      "source": [
        "#TF-IDF\n",
        "tfidf_vectorizer = TfidfVectorizer(use_idf=True,ngram_range=(2,2))\n",
        "X_train_vectors_tfidf = tfidf_vectorizer.fit_transform(X_train) \n",
        "X_val_vectors_tfidf = tfidf_vectorizer.transform(X_val) \n",
        "\n",
        "lr_tfidf=LogisticRegression(solver = 'liblinear', C=10, penalty = 'l2',max_iter=300,class_weight='balanced')\n",
        "lr_tfidf.fit(X_train_vectors_tfidf, y_train)  \n",
        "\n",
        "\n",
        "y_predict = lr_tfidf.predict(X_val_vectors_tfidf)\n",
        "y_prob = lr_tfidf.predict_proba(X_val_vectors_tfidf)[:,1]\n",
        " \n",
        "print(classification_report(y_val,y_predict))\n",
        "print('Confusion Matrix:',confusion_matrix(y_val, y_predict))\n",
        "\n",
        "\n",
        "sns.heatmap(confusion_matrix(y_val,y_predict, normalize='all'), annot=True)"
      ],
      "metadata": {
        "colab": {
          "base_uri": "https://localhost:8080/",
          "height": 473
        },
        "id": "ocEPPn02fSjP",
        "outputId": "b9ceadd5-744c-44f5-90f5-8dc798ebfc94"
      },
      "execution_count": 64,
      "outputs": [
        {
          "output_type": "stream",
          "name": "stdout",
          "text": [
            "                     precision    recall  f1-score   support\n",
            "\n",
            "musical_instruments       0.84      0.90      0.87      3061\n",
            "        video_games       0.96      0.92      0.94      6815\n",
            "\n",
            "           accuracy                           0.92      9876\n",
            "          macro avg       0.90      0.91      0.90      9876\n",
            "       weighted avg       0.92      0.92      0.92      9876\n",
            "\n",
            "Confusion Matrix: [[2770  291]\n",
            " [ 539 6276]]\n"
          ]
        },
        {
          "output_type": "execute_result",
          "data": {
            "text/plain": [
              "<matplotlib.axes._subplots.AxesSubplot at 0x7fe0b5575150>"
            ]
          },
          "metadata": {},
          "execution_count": 64
        },
        {
          "output_type": "display_data",
          "data": {
            "text/plain": [
              "<Figure size 432x288 with 2 Axes>"
            ],
            "image/png": "[encoded data removed]"
          },
          "metadata": {
            "needs_background": "light"
          }
        }
      ]
    },
    {
      "cell_type": "code",
      "source": [
        "from sklearn.impute import SimpleImputer \n",
        "import matplotlib.pyplot as plt"
      ],
      "metadata": {
        "id": "vfDDvakUidWQ"
      },
      "execution_count": 65,
      "outputs": []
    },
    {
      "cell_type": "code",
      "source": [
        "model = Word2Vec(df_test_over['clean_text_tok'],min_count=1)  \n",
        "w2v = dict(zip(model.wv.index2word, model.wv.syn0))  \n",
        "\n",
        "X_train_tok= [nltk.word_tokenize(i) for i in X_train]  \n",
        "X_val_tok= [nltk.word_tokenize(i) for i in X_val]      \n",
        "\n",
        "modelw = MeanEmbeddingVectorizer(w2v)\n",
        "X_train_vectors_w2v = modelw.transform(X_train_tok)\n",
        "X_val_vectors_w2v = modelw.transform(X_val_tok)\n",
        "\n",
        "\n",
        "\n",
        "lr_w2v=LogisticRegression(solver = 'liblinear', C=10, penalty = 'l2',class_weight='balanced')\n",
        "lr_w2v.fit(X_train_vectors_w2v, y_train)  \n",
        "y_predict = lr_w2v.predict(X_val_vectors_w2v)\n",
        "y_prob = lr_w2v.predict_proba(X_val_vectors_w2v)[:,1]\n",
        "print(classification_report(y_val,y_predict))\n",
        "print('Confusion Matrix:',confusion_matrix(y_val, y_predict))\n",
        "\n",
        "sns.heatmap(confusion_matrix(y_val,y_predict, normalize='all'), annot=True)"
      ],
      "metadata": {
        "colab": {
          "base_uri": "https://localhost:8080/",
          "height": 528
        },
        "id": "GUbD6roihq85",
        "outputId": "236295f4-5446-4ae7-f66d-dccb26dc3e07"
      },
      "execution_count": 66,
      "outputs": [
        {
          "output_type": "stream",
          "name": "stderr",
          "text": [
            "/usr/local/lib/python3.7/dist-packages/ipykernel_launcher.py:2: DeprecationWarning: Call to deprecated `syn0` (Attribute will be removed in 4.0.0, use self.wv.vectors instead).\n",
            "  \n"
          ]
        },
        {
          "output_type": "stream",
          "name": "stdout",
          "text": [
            "                     precision    recall  f1-score   support\n",
            "\n",
            "musical_instruments       0.75      0.93      0.83      3061\n",
            "        video_games       0.97      0.86      0.91      6815\n",
            "\n",
            "           accuracy                           0.88      9876\n",
            "          macro avg       0.86      0.89      0.87      9876\n",
            "       weighted avg       0.90      0.88      0.88      9876\n",
            "\n",
            "Confusion Matrix: [[2850  211]\n",
            " [ 962 5853]]\n"
          ]
        },
        {
          "output_type": "execute_result",
          "data": {
            "text/plain": [
              "<matplotlib.axes._subplots.AxesSubplot at 0x7fe0aa5e8550>"
            ]
          },
          "metadata": {},
          "execution_count": 66
        },
        {
          "output_type": "display_data",
          "data": {
            "text/plain": [
              "<Figure size 432x288 with 2 Axes>"
            ],
            "image/png": "[encoded data removed]"
          },
          "metadata": {
            "needs_background": "light"
          }
        }
      ]
    },
    {
      "cell_type": "code",
      "source": [
        "from sklearn.neighbors import KNeighborsClassifier\n",
        "from sklearn.metrics import accuracy_score, f1_score\n",
        "\n",
        "\n",
        "\n",
        "knn=KNeighborsClassifier(n_neighbors=5)\n",
        "knn.fit(X_train_vectors_w2v, y_train) \n",
        "\n",
        "y_predict= knn.predict(X_val_vectors_w2v)\n",
        "\n",
        "print(classification_report(y_val,y_predict))"
      ],
      "metadata": {
        "colab": {
          "base_uri": "https://localhost:8080/"
        },
        "id": "-5MSGy1ylA1A",
        "outputId": "a9975718-5118-4877-cb21-ad0bc55c37ed"
      },
      "execution_count": 67,
      "outputs": [
        {
          "output_type": "stream",
          "name": "stdout",
          "text": [
            "                     precision    recall  f1-score   support\n",
            "\n",
            "musical_instruments       0.85      0.84      0.85      3061\n",
            "        video_games       0.93      0.94      0.93      6815\n",
            "\n",
            "           accuracy                           0.91      9876\n",
            "          macro avg       0.89      0.89      0.89      9876\n",
            "       weighted avg       0.90      0.91      0.90      9876\n",
            "\n"
          ]
        }
      ]
    },
    {
      "cell_type": "code",
      "source": [
        "model = Word2Vec(df_test_over['clean_text_tok'],min_count=10)  \n",
        "w2v = dict(zip(model.wv.index2word, model.wv.syn0))  \n",
        "\n",
        "X_train_tok= [nltk.word_tokenize(i) for i in X_train]  \n",
        "X_val_tok= [nltk.word_tokenize(i) for i in X_val]      \n",
        "\n",
        "\n",
        "modelw = MeanEmbeddingVectorizer(w2v)\n",
        "X_train_vectors_w2v = modelw.transform(X_train_tok)\n",
        "X_val_vectors_w2v = modelw.transform(X_val_tok)\n",
        "\n",
        "\n",
        "\n",
        "lr_w2v=LogisticRegression(solver = 'liblinear', C=10, penalty = 'l2',class_weight='balanced')\n",
        "lr_w2v.fit(X_train_vectors_w2v, y_train) \n",
        "y_predict = lr_w2v.predict(X_val_vectors_w2v)\n",
        "y_prob = lr_w2v.predict_proba(X_val_vectors_w2v)[:,1]\n",
        " \n",
        "\n",
        "print(classification_report(y_val,y_predict))\n",
        "print('Confusion Matrix:',confusion_matrix(y_val, y_predict))\n",
        "\n",
        "sns.heatmap(confusion_matrix(y_val,y_predict, normalize='all'), annot=True)"
      ],
      "metadata": {
        "colab": {
          "base_uri": "https://localhost:8080/",
          "height": 528
        },
        "id": "CFJBDJN9lHzW",
        "outputId": "01e08259-d9ad-4a2d-c2df-8e4610fc3568"
      },
      "execution_count": 68,
      "outputs": [
        {
          "output_type": "stream",
          "name": "stderr",
          "text": [
            "/usr/local/lib/python3.7/dist-packages/ipykernel_launcher.py:2: DeprecationWarning: Call to deprecated `syn0` (Attribute will be removed in 4.0.0, use self.wv.vectors instead).\n",
            "  \n"
          ]
        },
        {
          "output_type": "stream",
          "name": "stdout",
          "text": [
            "                     precision    recall  f1-score   support\n",
            "\n",
            "musical_instruments       0.76      0.93      0.84      3061\n",
            "        video_games       0.97      0.87      0.91      6815\n",
            "\n",
            "           accuracy                           0.89      9876\n",
            "          macro avg       0.86      0.90      0.87      9876\n",
            "       weighted avg       0.90      0.89      0.89      9876\n",
            "\n",
            "Confusion Matrix: [[2854  207]\n",
            " [ 913 5902]]\n"
          ]
        },
        {
          "output_type": "execute_result",
          "data": {
            "text/plain": [
              "<matplotlib.axes._subplots.AxesSubplot at 0x7fe0b5490c50>"
            ]
          },
          "metadata": {},
          "execution_count": 68
        },
        {
          "output_type": "display_data",
          "data": {
            "text/plain": [
              "<Figure size 432x288 with 2 Axes>"
            ],
            "image/png": "[encoded data removed]"
          },
          "metadata": {
            "needs_background": "light"
          }
        }
      ]
    },
    {
      "cell_type": "markdown",
      "source": [
        "We will now test it on our old data"
      ],
      "metadata": {
        "id": "QM8SqGvGlYIt"
      }
    },
    {
      "cell_type": "code",
      "source": [
        "df_test=pd.read_csv('processed_reviews_split_surnamesA_minimal.csv')  \n",
        "df_test['clean_text'] = df_test['text'].astype(str).apply(lambda x: finalpreprocess(x)) "
      ],
      "metadata": {
        "id": "L1-cziKklPTl"
      },
      "execution_count": 69,
      "outputs": []
    },
    {
      "cell_type": "markdown",
      "source": [
        "Now that we have tested the prediction method on our old code, we obviously want it to be able to work on any new data given. So we will try the code on random data"
      ],
      "metadata": {
        "id": "IsMPoe1Slb4f"
      }
    },
    {
      "cell_type": "code",
      "source": [
        "X_test=df_test['clean_text'] \n",
        "X_vector=tfidf_vectorizer.transform(X_test) \n",
        "y_predict = lr_tfidf.predict(X_vector)      \n",
        "y_prob = lr_tfidf.predict_proba(X_vector)[:,1]\n",
        "df_test['predict_prob']= y_prob\n",
        "df_test['product_category']= y_predict\n",
        "print(df_test[:10])\n",
        "final=df_test[['clean_text','product_category','predict_prob']].reset_index(drop=True)\n",
        "final.to_csv('submission_product_category.csv')"
      ],
      "metadata": {
        "colab": {
          "base_uri": "https://localhost:8080/"
        },
        "id": "H1yOsvpHlT-z",
        "outputId": "477a8340-66dd-46ca-860d-93c84ed385cc"
      },
      "execution_count": 70,
      "outputs": [
        {
          "output_type": "stream",
          "name": "stdout",
          "text": [
            "               review_id                                               text  \\\n",
            "0  product_review_000000                                 guitars look new.    \n",
            "1  product_review_000001  I'd heard this game had crude humor, but man i...   \n",
            "2  product_review_000002  It's a decent game but nothing nearly as good ...   \n",
            "3  product_review_000003  This device worked exceptionally well for my X...   \n",
            "4  product_review_000004  great racing game, with a lot of cool cars to ...   \n",
            "5  product_review_000005  This is a great game for adults or those that ...   \n",
            "6  product_review_000006  Was about to send it back, was tuned too low, ...   \n",
            "7  product_review_000007  I play a lot of guitar.  Truthfully, I don't h...   \n",
            "8  product_review_000008  I built a custom cab for this speaker an am dr...   \n",
            "9  product_review_000009  Good pruduct it's pretty dicent but the microp...   \n",
            "\n",
            "  verified  review_score     product_category  \\\n",
            "0    False           5.0  musical_instruments   \n",
            "1     True           4.0          video_games   \n",
            "2     True           4.0          video_games   \n",
            "3    False           5.0          video_games   \n",
            "4     True           4.0          video_games   \n",
            "5    False           5.0          video_games   \n",
            "6     True           5.0  musical_instruments   \n",
            "7     True           5.0  musical_instruments   \n",
            "8    False           5.0  musical_instruments   \n",
            "9     True           4.0  musical_instruments   \n",
            "\n",
            "                                          clean_text  predict_prob  \n",
            "0                                    guitar look new      0.065065  \n",
            "1  heard game crude humor man worse expect love h...      0.938390  \n",
            "2  decent game nothing nearly good orginal game g...      0.976872  \n",
            "3  device work exceptionally well xbox work great...      0.826432  \n",
            "4  great race game lot cool car drive favorite mo...      0.916314  \n",
            "5  great game adult want put hand design game wit...      0.989486  \n",
            "6  send back tune low noticed little flat sign ge...      0.081147  \n",
            "7  play lot guitar truthfully great ear get heavy...      0.021977  \n",
            "8  build custom cab speaker drive egnator tweaker...      0.048417  \n",
            "9  good pruduct pretty dicent microphone bad qual...      0.446747  \n"
          ]
        }
      ]
    },
    {
      "cell_type": "code",
      "source": [
        "from sklearn.utils import resample\n",
        "df_minority5 = df_test_over[df_test_over['review_score']==2]\n",
        "df_majority1 = df_test_over[df_test_over['review_score']==4]\n",
        "df_majority2 = df_test_over[df_test_over['review_score']==5]\n",
        "df_majority3 = df_test_over[df_test_over['review_score']==3]\n",
        "df_majority4 = df_test_over[df_test_over['review_score']==1]\n",
        "\n",
        "maj_class1 = resample(df_majority1, \n",
        "                           replace=True,     \n",
        "                           n_samples=19847,    \n",
        "                           random_state=222) \n",
        "maj_class2 = resample(df_majority2, \n",
        "                           replace=True,     \n",
        "                           n_samples=19847,    \n",
        "                           random_state=222) \n",
        "maj_class3 = resample(df_majority3, \n",
        "                           replace=True,     \n",
        "                           n_samples=19847,    \n",
        "                           random_state=222) \n",
        "maj_class4 = resample(df_majority4, \n",
        "                           replace=True,     \n",
        "                           n_samples=19847,    \n",
        "                           random_state=222) \n",
        "maj_class5 = resample(df_minority5, \n",
        "                           replace=True,     \n",
        "                           n_samples=19847,    \n",
        "                           random_state=222) \n",
        "maj_class6 = resample(df_class_0, \n",
        "                           replace=True,     \n",
        "                           n_samples=19847,    \n",
        "                           random_state=222)\n",
        "maj_class7 = resample(df_class_1, \n",
        "                           replace=True,     \n",
        "                           n_samples=19847,    \n",
        "                           random_state=222)\n",
        "\n",
        "df_test_over1=pd.concat([maj_class1,maj_class2,maj_class3,maj_class4, maj_class5])\n",
        "\n",
        "df_test_over1.review_score.value_counts().plot(kind='pie', title='Review Score');"
      ],
      "metadata": {
        "colab": {
          "base_uri": "https://localhost:8080/",
          "height": 264
        },
        "id": "7tCuLn4_nbwi",
        "outputId": "b00dc82f-a45a-447c-920a-f4c87a36dd95"
      },
      "execution_count": 78,
      "outputs": [
        {
          "output_type": "display_data",
          "data": {
            "text/plain": [
              "<Figure size 432x288 with 1 Axes>"
            ],
            "image/png": "[encoded data removed]"
          },
          "metadata": {}
        }
      ]
    },
    {
      "cell_type": "code",
      "source": [
        "X_train, X_val, y_train, y_val = train_test_split(df_test_over1[\"clean_text\"],\n",
        "                                                  df_test_over1[\"review_score\"].values,\n",
        "                                                  test_size=0.3,\n",
        "                                                  shuffle=True)"
      ],
      "metadata": {
        "id": "56J2EecgpJZ-"
      },
      "execution_count": 72,
      "outputs": []
    },
    {
      "cell_type": "code",
      "source": [
        "y_train  = y_train.astype('int')"
      ],
      "metadata": {
        "id": "7N1nDEJ_pMeF"
      },
      "execution_count": 73,
      "outputs": []
    },
    {
      "cell_type": "code",
      "source": [
        "y_val  = y_val.astype('int')"
      ],
      "metadata": {
        "id": "6wbmCpFypOvq"
      },
      "execution_count": 74,
      "outputs": []
    },
    {
      "cell_type": "code",
      "source": [
        "tfidf_vectorizer = TfidfVectorizer(use_idf=True,ngram_range=(1,1))\n",
        "X_train_vectors_tfidf = tfidf_vectorizer.fit_transform(X_train) \n",
        "X_val_vectors_tfidf = tfidf_vectorizer.transform(X_val) \n",
        "\n",
        "lr_tfidf=LogisticRegression(solver = 'liblinear', C=10, penalty = 'l2',max_iter=300,class_weight='balanced')\n",
        "lr_tfidf.fit(X_train_vectors_tfidf, y_train) \n",
        "\n",
        "\n",
        "y_predict = lr_tfidf.predict(X_val_vectors_tfidf)\n",
        "y_prob = lr_tfidf.predict_proba(X_val_vectors_tfidf)[:,1]\n",
        " \n",
        "print(classification_report(y_val,y_predict))\n",
        "print('Confusion Matrix:',confusion_matrix(y_val, y_predict))\n",
        "\n",
        "sns.heatmap(confusion_matrix(y_val,y_predict, normalize='all'), annot=True)"
      ],
      "metadata": {
        "colab": {
          "base_uri": "https://localhost:8080/",
          "height": 577
        },
        "id": "eWLi9qIvpP2o",
        "outputId": "a0953556-07f4-4094-9722-4dd9adb1892f"
      },
      "execution_count": 76,
      "outputs": [
        {
          "output_type": "stream",
          "name": "stdout",
          "text": [
            "              precision    recall  f1-score   support\n",
            "\n",
            "           1       0.97      0.99      0.98      5883\n",
            "           2       0.97      0.98      0.97      6008\n",
            "           3       0.93      0.95      0.94      6020\n",
            "           4       0.87      0.84      0.85      5909\n",
            "           5       0.85      0.83      0.84      5951\n",
            "\n",
            "    accuracy                           0.92     29771\n",
            "   macro avg       0.92      0.92      0.92     29771\n",
            "weighted avg       0.92      0.92      0.92     29771\n",
            "\n",
            "Confusion Matrix: [[5852    4    0    5   22]\n",
            " [  71 5868   14   23   32]\n",
            " [  22   44 5691  101  162]\n",
            " [  31   75  198 4972  633]\n",
            " [  77   84  232  626 4932]]\n"
          ]
        },
        {
          "output_type": "execute_result",
          "data": {
            "text/plain": [
              "<matplotlib.axes._subplots.AxesSubplot at 0x7fe0b6590b10>"
            ]
          },
          "metadata": {},
          "execution_count": 76
        },
        {
          "output_type": "display_data",
          "data": {
            "text/plain": [
              "<Figure size 432x288 with 2 Axes>"
            ],
            "image/png": "[encoded data removed]"
          },
          "metadata": {
            "needs_background": "light"
          }
        }
      ]
    },
    {
      "cell_type": "code",
      "source": [
        "\n",
        "knn=KNeighborsClassifier(n_neighbors=5)\n",
        "knn.fit(X_train_vectors_tfidf, y_train) \n",
        "y_predict= knn.predict(X_val_vectors_tfidf)\n",
        "\n",
        "print(classification_report(y_val,y_predict))"
      ],
      "metadata": {
        "colab": {
          "base_uri": "https://localhost:8080/"
        },
        "id": "iOqZ4s7PpXWw",
        "outputId": "1682a083-d9fc-47cb-d657-cef511c2d333"
      },
      "execution_count": 77,
      "outputs": [
        {
          "output_type": "stream",
          "name": "stdout",
          "text": [
            "              precision    recall  f1-score   support\n",
            "\n",
            "           1       0.55      1.00      0.71      5883\n",
            "           2       0.98      0.99      0.99      6008\n",
            "           3       0.96      0.91      0.93      6020\n",
            "           4       0.87      0.76      0.81      5909\n",
            "           5       0.91      0.32      0.47      5951\n",
            "\n",
            "    accuracy                           0.80     29771\n",
            "   macro avg       0.85      0.80      0.78     29771\n",
            "weighted avg       0.85      0.80      0.78     29771\n",
            "\n"
          ]
        }
      ]
    },
    {
      "cell_type": "code",
      "source": [
        "#TF-IDF\n",
        "tfidf_vectorizer = TfidfVectorizer(use_idf=True,ngram_range=(2,2))\n",
        "X_train_vectors_tfidf = tfidf_vectorizer.fit_transform(X_train) \n",
        "X_val_vectors_tfidf = tfidf_vectorizer.transform(X_val) \n",
        "\n",
        "lr_tfidf=LogisticRegression(solver = 'liblinear', C=10, penalty = 'l2',max_iter=300,class_weight='balanced')\n",
        "lr_tfidf.fit(X_train_vectors_tfidf, y_train)  \n",
        "\n",
        "\n",
        "y_predict = lr_tfidf.predict(X_val_vectors_tfidf)\n",
        "y_prob = lr_tfidf.predict_proba(X_val_vectors_tfidf)[:,1]\n",
        " \n",
        "print(classification_report(y_val,y_predict))\n",
        "print('Confusion Matrix:',confusion_matrix(y_val, y_predict))\n",
        "\n",
        "\n",
        "\n",
        "sns.heatmap(confusion_matrix(y_val,y_predict, normalize='all'), annot=True)"
      ],
      "metadata": {
        "colab": {
          "base_uri": "https://localhost:8080/",
          "height": 577
        },
        "id": "TteB__iUpaEw",
        "outputId": "7cff811e-2edc-46bb-b1c6-27224620dbb9"
      },
      "execution_count": 79,
      "outputs": [
        {
          "output_type": "stream",
          "name": "stdout",
          "text": [
            "              precision    recall  f1-score   support\n",
            "\n",
            "           1       1.00      0.98      0.99      5883\n",
            "           2       1.00      0.99      0.99      6008\n",
            "           3       0.99      0.98      0.98      6020\n",
            "           4       0.94      0.94      0.94      5909\n",
            "           5       0.90      0.93      0.92      5951\n",
            "\n",
            "    accuracy                           0.97     29771\n",
            "   macro avg       0.97      0.97      0.97     29771\n",
            "weighted avg       0.97      0.97      0.97     29771\n",
            "\n",
            "Confusion Matrix: [[5785    0    0    0   98]\n",
            " [   0 5920    0    9   79]\n",
            " [   3    0 5898   13  106]\n",
            " [   1    3   34 5566  305]\n",
            " [  18   11   47  311 5564]]\n"
          ]
        },
        {
          "output_type": "execute_result",
          "data": {
            "text/plain": [
              "<matplotlib.axes._subplots.AxesSubplot at 0x7fe0b176cc50>"
            ]
          },
          "metadata": {},
          "execution_count": 79
        },
        {
          "output_type": "display_data",
          "data": {
            "text/plain": [
              "<Figure size 432x288 with 2 Axes>"
            ],
            "image/png": "[encoded data removed]"
          },
          "metadata": {
            "needs_background": "light"
          }
        }
      ]
    },
    {
      "cell_type": "code",
      "source": [
        "model = Word2Vec(df_test_over['clean_text_tok'],min_count=1)  \n",
        "w2v = dict(zip(model.wv.index2word, model.wv.syn0))  \n",
        "\n",
        "X_train_tok= [nltk.word_tokenize(i) for i in X_train]  \n",
        "X_val_tok= [nltk.word_tokenize(i) for i in X_val]      \n",
        "\n",
        "modelw = MeanEmbeddingVectorizer(w2v)\n",
        "X_train_vectors_w2v = modelw.transform(X_train_tok)\n",
        "X_val_vectors_w2v = modelw.transform(X_val_tok)\n",
        "\n",
        "\n",
        "\n",
        "lr_w2v=LogisticRegression(solver = 'liblinear', C=10, penalty = 'l2',class_weight='balanced')\n",
        "lr_w2v.fit(X_train_vectors_w2v, y_train)  \n",
        "y_predict = lr_w2v.predict(X_val_vectors_w2v)\n",
        "y_prob = lr_w2v.predict_proba(X_val_vectors_w2v)[:,1]\n",
        " \n",
        "\n",
        "print(classification_report(y_val,y_predict))\n",
        "print('Confusion Matrix:',confusion_matrix(y_val, y_predict))\n",
        " \n",
        "\n",
        "\n",
        "sns.heatmap(confusion_matrix(y_val,y_predict, normalize='all'), annot=True)"
      ],
      "metadata": {
        "colab": {
          "base_uri": "https://localhost:8080/",
          "height": 632
        },
        "id": "R7yEGNWupgdY",
        "outputId": "9da223d3-eccc-41b6-a815-8df06c3d135e"
      },
      "execution_count": 80,
      "outputs": [
        {
          "output_type": "stream",
          "name": "stderr",
          "text": [
            "/usr/local/lib/python3.7/dist-packages/ipykernel_launcher.py:2: DeprecationWarning: Call to deprecated `syn0` (Attribute will be removed in 4.0.0, use self.wv.vectors instead).\n",
            "  \n"
          ]
        },
        {
          "output_type": "stream",
          "name": "stdout",
          "text": [
            "              precision    recall  f1-score   support\n",
            "\n",
            "           1       0.52      0.69      0.59      5883\n",
            "           2       0.36      0.37      0.37      6008\n",
            "           3       0.38      0.29      0.33      6020\n",
            "           4       0.40      0.33      0.36      5909\n",
            "           5       0.56      0.60      0.58      5951\n",
            "\n",
            "    accuracy                           0.45     29771\n",
            "   macro avg       0.44      0.46      0.45     29771\n",
            "weighted avg       0.44      0.45      0.44     29771\n",
            "\n",
            "Confusion Matrix: [[4031 1069  351  191  241]\n",
            " [1818 2217  944  608  421]\n",
            " [ 898 1482 1747 1121  772]\n",
            " [ 491  958 1100 1943 1417]\n",
            " [ 500  403  483  973 3592]]\n"
          ]
        },
        {
          "output_type": "execute_result",
          "data": {
            "text/plain": [
              "<matplotlib.axes._subplots.AxesSubplot at 0x7fe0b3199110>"
            ]
          },
          "metadata": {},
          "execution_count": 80
        },
        {
          "output_type": "display_data",
          "data": {
            "text/plain": [
              "<Figure size 432x288 with 2 Axes>"
            ],
            "image/png": "[encoded data removed]"
          },
          "metadata": {
            "needs_background": "light"
          }
        }
      ]
    },
    {
      "cell_type": "code",
      "source": [
        "\n",
        "knn=KNeighborsClassifier(n_neighbors=5)\n",
        "knn.fit(X_train_vectors_w2v, y_train) \n",
        "y_predict= knn.predict(X_val_vectors_w2v)\n",
        "\n",
        "print(classification_report(y_val,y_predict))"
      ],
      "metadata": {
        "colab": {
          "base_uri": "https://localhost:8080/"
        },
        "id": "B2o8S2TapjeD",
        "outputId": "240b45b0-6b1e-4284-8e86-19088eab9d9b"
      },
      "execution_count": 81,
      "outputs": [
        {
          "output_type": "stream",
          "name": "stdout",
          "text": [
            "              precision    recall  f1-score   support\n",
            "\n",
            "           1       0.93      0.99      0.96      5883\n",
            "           2       0.91      0.99      0.95      6008\n",
            "           3       0.83      0.94      0.88      6020\n",
            "           4       0.78      0.80      0.79      5909\n",
            "           5       0.86      0.60      0.71      5951\n",
            "\n",
            "    accuracy                           0.86     29771\n",
            "   macro avg       0.86      0.86      0.86     29771\n",
            "weighted avg       0.86      0.86      0.86     29771\n",
            "\n"
          ]
        }
      ]
    },
    {
      "cell_type": "code",
      "source": [
        "model = Word2Vec(df_test_over['clean_text_tok'],min_count=10)  \n",
        "w2v = dict(zip(model.wv.index2word, model.wv.syn0))  \n",
        "\n",
        "X_train_tok= [nltk.word_tokenize(i) for i in X_train]  \n",
        "X_val_tok= [nltk.word_tokenize(i) for i in X_val]      \n",
        "\n",
        "#Word2vec\n",
        "# Fit and transform\n",
        "modelw = MeanEmbeddingVectorizer(w2v)\n",
        "X_train_vectors_w2v = modelw.transform(X_train_tok)\n",
        "X_val_vectors_w2v = modelw.transform(X_val_tok)\n",
        "\n",
        "\n",
        "\n",
        "lr_w2v=LogisticRegression(solver = 'liblinear', C=10, penalty = 'l2',class_weight='balanced')\n",
        "lr_w2v.fit(X_train_vectors_w2v, y_train)  \n",
        "y_predict = lr_w2v.predict(X_val_vectors_w2v)\n",
        "y_prob = lr_w2v.predict_proba(X_val_vectors_w2v)[:,1]\n",
        " \n",
        "\n",
        "print(classification_report(y_val,y_predict))\n",
        "print('Confusion Matrix:',confusion_matrix(y_val, y_predict))\n",
        " \n",
        "\n",
        "sns.heatmap(confusion_matrix(y_val,y_predict, normalize='all'), annot=True)"
      ],
      "metadata": {
        "colab": {
          "base_uri": "https://localhost:8080/",
          "height": 632
        },
        "id": "IaRnd88Ypo3f",
        "outputId": "c2254560-2459-42d6-d5db-6a816054d528"
      },
      "execution_count": 82,
      "outputs": [
        {
          "output_type": "stream",
          "name": "stderr",
          "text": [
            "/usr/local/lib/python3.7/dist-packages/ipykernel_launcher.py:2: DeprecationWarning: Call to deprecated `syn0` (Attribute will be removed in 4.0.0, use self.wv.vectors instead).\n",
            "  \n"
          ]
        },
        {
          "output_type": "stream",
          "name": "stdout",
          "text": [
            "              precision    recall  f1-score   support\n",
            "\n",
            "           1       0.52      0.68      0.59      5883\n",
            "           2       0.36      0.37      0.36      6008\n",
            "           3       0.37      0.28      0.32      6020\n",
            "           4       0.41      0.34      0.37      5909\n",
            "           5       0.56      0.60      0.58      5951\n",
            "\n",
            "    accuracy                           0.45     29771\n",
            "   macro avg       0.44      0.46      0.45     29771\n",
            "weighted avg       0.44      0.45      0.44     29771\n",
            "\n",
            "Confusion Matrix: [[4006 1057  383  197  240]\n",
            " [1842 2198  881  713  374]\n",
            " [ 868 1575 1691 1083  803]\n",
            " [ 455  920 1107 2032 1395]\n",
            " [ 493  404  484  973 3597]]\n"
          ]
        },
        {
          "output_type": "execute_result",
          "data": {
            "text/plain": [
              "<matplotlib.axes._subplots.AxesSubplot at 0x7fe0b6a97150>"
            ]
          },
          "metadata": {},
          "execution_count": 82
        },
        {
          "output_type": "display_data",
          "data": {
            "text/plain": [
              "<Figure size 432x288 with 2 Axes>"
            ],
            "image/png": "[encoded data removed]"
          },
          "metadata": {
            "needs_background": "light"
          }
        }
      ]
    },
    {
      "cell_type": "code",
      "source": [
        "\n",
        "X_test=df_test['clean_text'] \n",
        "X_vector=tfidf_vectorizer.transform(X_test) \n",
        "y_predict = lr_tfidf.predict(X_vector)      \n",
        "y_prob = lr_tfidf.predict_proba(X_vector)[:,1]\n",
        "df_test['predict_prob']= y_prob\n",
        "df_test['review_score']= y_predict\n",
        "print(df_test.head())\n",
        "final=df_test[['clean_text','review_score','predict_prob']].reset_index(drop=True)\n"
      ],
      "metadata": {
        "colab": {
          "base_uri": "https://localhost:8080/"
        },
        "id": "HIA85eslq3La",
        "outputId": "ad40df24-27ac-40c1-a0fb-6ccb2d6246a4"
      },
      "execution_count": 83,
      "outputs": [
        {
          "output_type": "stream",
          "name": "stdout",
          "text": [
            "               review_id                                               text  \\\n",
            "0  product_review_000000                                 guitars look new.    \n",
            "1  product_review_000001  I'd heard this game had crude humor, but man i...   \n",
            "2  product_review_000002  It's a decent game but nothing nearly as good ...   \n",
            "3  product_review_000003  This device worked exceptionally well for my X...   \n",
            "4  product_review_000004  great racing game, with a lot of cool cars to ...   \n",
            "\n",
            "  verified  review_score     product_category  \\\n",
            "0    False             5  musical_instruments   \n",
            "1     True             4          video_games   \n",
            "2     True             4          video_games   \n",
            "3    False             5          video_games   \n",
            "4     True             4          video_games   \n",
            "\n",
            "                                          clean_text  predict_prob  \n",
            "0                                    guitar look new      0.037747  \n",
            "1  heard game crude humor man worse expect love h...      0.008719  \n",
            "2  decent game nothing nearly good orginal game g...      0.012827  \n",
            "3  device work exceptionally well xbox work great...      0.009094  \n",
            "4  great race game lot cool car drive favorite mo...      0.009371  \n"
          ]
        }
      ]
    }
  ]
}